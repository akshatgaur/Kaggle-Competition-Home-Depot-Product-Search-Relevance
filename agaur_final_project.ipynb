{
 "cells": [
  {
   "cell_type": "markdown",
   "metadata": {},
   "source": [
    "# Analytics Project: Kaggle Home Depot Challenge\n",
    "\n",
    "#### Author: Akshat Gaur\n",
    "#### AndrewID: agaur\n",
    "\n",
    "#### Task:\n",
    "\n",
    "Shoppers rely on Home Depot’s product authority to find and buy the latest products and to get timely solutions to their home improvement needs. From installing a new ceiling fan to remodeling an entire kitchen, with the click of a mouse or tap of the screen, customers expect the correct results to their queries – quickly. Speed, accuracy and delivering a frictionless customer experience are essential.\n",
    "\n",
    "In this competition, Home Depot is asking Kagglers to help them improve their customers' shopping experience by developing a model that can accurately predict the relevance of search results.\n",
    "\n",
    "Search relevancy is an implicit measure Home Depot uses to gauge how quickly they can get customers to the right products. Currently, human raters evaluate the impact of potential changes to their search algorithms, which is a slow and subjective process. By removing or minimizing human input in search relevance evaluation, Home Depot hopes to increase the number of iterations their team can perform on the current search algorithms.\n",
    "\n",
    "#### Build and iteratively improve a Python-Spark based analytic solution to the Kaggle Home Depot Product Search Relevance Challenge. "
   ]
  },
  {
   "cell_type": "markdown",
   "metadata": {},
   "source": [
    "## 1. Create Spark Session"
   ]
  },
  {
   "cell_type": "code",
   "execution_count": 2,
   "metadata": {
    "collapsed": true,
    "scrolled": true
   },
   "outputs": [],
   "source": [
    "from pyspark.sql import SparkSession\n",
    "import warnings\n",
    "warnings.filterwarnings('ignore')\n",
    "import seaborn\n",
    "\n",
    "spark = SparkSession.builder.master(\"local\") \\\n",
    "        .appName(\"Home Depot Challenge\") \\\n",
    "        .config(\"spark.some.config.option\", \"some-value\") \\\n",
    "        .getOrCreate()\n"
   ]
  },
  {
   "cell_type": "markdown",
   "metadata": {},
   "source": [
    "## 2. Read Data from Train, Test, Product Description and Attribute File\n",
    "\n",
    "#### Train Data:\n",
    "There are 74067 rows in the train.csv data.\n",
    "Columns: id, product_uid, product_title, search_term, relevance\n",
    "\n",
    "\n",
    "#### Test Data:\n",
    "There are 166693 rows in the test.csv data\n",
    "Columns: id, product_uid, product_title, search_term\n",
    "\n",
    "#### Product Description\n",
    "Contains a text description of each product.\n",
    "We can join this information togethr with train and test data.\n",
    "\n",
    "#### Attribute File\n",
    "Provides extended information about a subset of the products (typically representing detailed technical specifications). Not every product have attributes. This information can also be used with train data.\n",
    "\n",
    "#### Data fields\n",
    "<b> id: </b>a unique Id field which represents a (search_term, product_uid) pair <br>\n",
    "<b> product_uid: </b>an id for the products <br>\n",
    "<b> product_title: </b>the product title <br>\n",
    "<b> product_description: </b>the text description of the product (may contain HTML content) <br>\n",
    "<b> search_term: </b>the search query <br>\n",
    "<b> relevance: </b>the average of the relevance ratings for a given id <br>\n",
    "<b> name: </b>an attribute name <br>\n",
    "<b> value: </b>the attribute's value <br>"
   ]
  },
  {
   "cell_type": "code",
   "execution_count": 3,
   "metadata": {},
   "outputs": [
    {
     "name": "stdout",
     "output_type": "stream",
     "text": [
      "Schema:\n",
      "root\n",
      " |-- id: integer (nullable = true)\n",
      " |-- product_uid: integer (nullable = true)\n",
      " |-- product_title: string (nullable = true)\n",
      " |-- search_term: string (nullable = true)\n",
      " |-- relevance: double (nullable = true)\n",
      "\n",
      "+---+-----------+--------------------+-------------+---------+\n",
      "| id|product_uid|       product_title|  search_term|relevance|\n",
      "+---+-----------+--------------------+-------------+---------+\n",
      "|  2|     100001|Simpson Strong-Ti...|angle bracket|      3.0|\n",
      "|  3|     100001|Simpson Strong-Ti...|    l bracket|      2.5|\n",
      "|  9|     100002|BEHR Premium Text...|    deck over|      3.0|\n",
      "+---+-----------+--------------------+-------------+---------+\n",
      "only showing top 3 rows\n",
      "\n",
      "Schema:\n",
      "root\n",
      " |-- id: integer (nullable = true)\n",
      " |-- product_uid: integer (nullable = true)\n",
      " |-- product_title: string (nullable = true)\n",
      " |-- search_term: string (nullable = true)\n",
      "\n",
      "+---+-----------+--------------------+-----------------+\n",
      "| id|product_uid|       product_title|      search_term|\n",
      "+---+-----------+--------------------+-----------------+\n",
      "|  1|     100001|Simpson Strong-Ti...|90 degree bracket|\n",
      "|  4|     100001|Simpson Strong-Ti...| metal l brackets|\n",
      "|  5|     100001|Simpson Strong-Ti...| simpson sku able|\n",
      "+---+-----------+--------------------+-----------------+\n",
      "only showing top 3 rows\n",
      "\n",
      "Schema:\n",
      "root\n",
      " |-- product_uid: integer (nullable = true)\n",
      " |-- name: string (nullable = true)\n",
      " |-- value: string (nullable = true)\n",
      "\n",
      "+-----------+--------+--------------------+\n",
      "|product_uid|    name|               value|\n",
      "+-----------+--------+--------------------+\n",
      "|     100001|Bullet01|Versatile connect...|\n",
      "|     100001|Bullet02|Stronger than ang...|\n",
      "|     100001|Bullet03|Help ensure joint...|\n",
      "+-----------+--------+--------------------+\n",
      "only showing top 3 rows\n",
      "\n",
      "Schema:\n",
      "root\n",
      " |-- product_uid: integer (nullable = true)\n",
      " |-- product_description: string (nullable = true)\n",
      "\n",
      "+-----------+--------------------+\n",
      "|product_uid| product_description|\n",
      "+-----------+--------------------+\n",
      "|     100001|\"Not only do angl...|\n",
      "|     100002|BEHR Premium Text...|\n",
      "|     100003|Classic architect...|\n",
      "+-----------+--------------------+\n",
      "only showing top 3 rows\n",
      "\n",
      "train count: 74067\n",
      "test count: 166693\n",
      "attribute count: 2044803\n",
      "product description count: 124428\n"
     ]
    }
   ],
   "source": [
    "from pyspark.sql.types import Row\n",
    "# from pymongo import MongoClient\n",
    "from collections import OrderedDict\n",
    "from pyspark.sql.types import StructField\n",
    "from pyspark.sql.types import *\n",
    "\n",
    "\n",
    "train_path = \"hdfs://aspen.local:8020/user/agaur/final_project/train.csv\"\n",
    "test_path = \"hdfs://aspen.local:8020/user/agaur/final_project/test.csv\"\n",
    "attribute_path = \"hdfs://aspen.local:8020/user/agaur/final_project/attributes.csv\"\n",
    "product_description = \"hdfs://aspen.local:8020/user/agaur/final_project/product_descriptions.csv\"\n",
    "\n",
    "# create schema\n",
    "train_schema = StructType([StructField('id', IntegerType(), True), StructField('product_uid', IntegerType(), True),\n",
    "                    StructField('product_title', StringType(), True), StructField('search_term', StringType(), True),\n",
    "                           StructField(\"relevance\", DoubleType(), True)])\n",
    "\n",
    "# Read train data from train.csv and print top 3 rows\n",
    "train_df = spark.read.format('com.databricks.spark.csv').load(train_path, header=True, schema = train_schema)\n",
    "print 'Schema:'\n",
    "train_df.printSchema()\n",
    "train_df.show(3)\n",
    "\n",
    "# create schema\n",
    "test_schema = StructType([StructField('id', IntegerType(), True), StructField('product_uid', IntegerType(), True),\n",
    "                    StructField('product_title', StringType(), True), StructField('search_term', StringType(), True)])\n",
    "# Read test data from test.csv and print top 3 rows\n",
    "test_df = spark.read.format('com.databricks.spark.csv').load(test_path, header = True, schema = test_schema)\n",
    "print 'Schema:'\n",
    "test_df.printSchema()\n",
    "test_df.show(3)\n",
    "\n",
    "# create schema\n",
    "attribute_schema = StructType([StructField('product_uid', IntegerType(), True), StructField('name', StringType(), True),\n",
    "                               StructField('value', StringType(), True)])\n",
    "# get data from attributes.csv\n",
    "attribute_df = spark.read.format('com.databricks.spark.csv').load(attribute_path, header = True, schema = attribute_schema)\n",
    "print 'Schema:'\n",
    "attribute_df.printSchema()\n",
    "attribute_df.show(3)\n",
    "\n",
    "# create schema\n",
    "product_desc_schema = StructType([StructField('product_uid', IntegerType(), True), \n",
    "                                  StructField('product_description', StringType(), True)])\n",
    "# get data from attributes.csv\n",
    "product_desc_df = spark.read.format('com.databricks.spark.csv').load(product_description, header = True, schema = product_desc_schema)\n",
    "print 'Schema:'\n",
    "product_desc_df.printSchema()\n",
    "product_desc_df.show(3)\n",
    "\n",
    "#print count of each file\n",
    "print 'train count:', train_df.count()\n",
    "print 'test count:', test_df.count()\n",
    "print 'attribute count:', attribute_df.count()\n",
    "print 'product description count:', product_desc_df.count()"
   ]
  },
  {
   "cell_type": "markdown",
   "metadata": {},
   "source": [
    "## 3. Data Exploration"
   ]
  },
  {
   "cell_type": "markdown",
   "metadata": {},
   "source": [
    "#### 3.a Test & Train\n",
    "For both Test and Train:\n",
    " 1. In the column product_id there are 54667 unique values in train.csv data and 97460 in the test.csv data.\n",
    " 2. There are total of 27699 product_uid values that are common in both.<br>This information can be visualized using venn diagram shown below"
   ]
  },
  {
   "cell_type": "code",
   "execution_count": 4,
   "metadata": {},
   "outputs": [
    {
     "data": {
      "image/png": "[encoded data removed]",
      "text/plain": [
       "<matplotlib.figure.Figure at 0x16285de10>"
      ]
     },
     "metadata": {},
     "output_type": "display_data"
    }
   ],
   "source": [
    "import pandas as pd\n",
    "\n",
    "train_pdf = train_df.toPandas()\n",
    "test_pdf = test_df.toPandas()\n",
    "attribute_pdf = attribute_df.toPandas()\n",
    "product_desc_pdf = product_desc_df.toPandas()\n",
    "# train_df.unpersist()\n",
    "# del test_df\n",
    "# train_pdf.head()\n",
    "pidTrain = set(pd.unique(train_pdf['product_uid']))\n",
    "pidTest = set(pd.unique(test_pdf['product_uid']))\n",
    "pidatt = set(pd.unique(attribute_pdf['product_uid']))\n",
    "piddesc = set(pd.unique(product_desc_pdf['product_uid']))\n",
    "# print pidTrain\n",
    "\n",
    "# df[['Col1', 'Col2']].values)\n",
    "\n",
    "# #Count unique *product_uid*, the PK across datasets.\n",
    "# pidTrain = unique(train_df[product_uid])\n",
    "# pidTest = unique(test_df[product_uid])\n",
    "# pidAtt = unique(attribute_df[product_uid])\n",
    "# pidDesc = unique(product_desc_df[product_uid])\n",
    "\n",
    "# Create venn diagram to visualize Product IDs in test and train. \n",
    "\n",
    "from matplotlib_venn import venn2\n",
    "import matplotlib.pyplot as plt\n",
    "\n",
    "venn2([pidTrain, pidTest], ('Trainpid', 'Testpid'))\n",
    "plt.show()\n"
   ]
  },
  {
   "cell_type": "markdown",
   "metadata": {},
   "source": [
    "#### 3.b Test, Train, Attribute and Product Description File\n",
    "\n",
    " 1. In the attributes.csv file, there are a total of 2044803 rows and a total of 86264 unique product_uid.\n",
    " 2. There is one value in attributes.csv file that is not present in both the Train or Test files. \n",
    " 3. There are 155 rows that do not have a product_uid value. We can remove these while doing data preprocessing.\n",
    " 4. There are a total of 54667 unique product_uid in the train and 97460 in test. Of these only 27699 are common. The total number of unique product_uids across both the train and test is 124428."
   ]
  },
  {
   "cell_type": "code",
   "execution_count": 5,
   "metadata": {},
   "outputs": [
    {
     "data": {
      "image/png": "[encoded data removed]",
      "text/plain": [
       "<matplotlib.figure.Figure at 0x11a36c250>"
      ]
     },
     "metadata": {},
     "output_type": "display_data"
    },
    {
     "data": {
      "image/png": "[encoded data removed]",
      "text/plain": [
       "<matplotlib.figure.Figure at 0x11cc0b150>"
      ]
     },
     "metadata": {},
     "output_type": "display_data"
    }
   ],
   "source": [
    "from matplotlib_venn import venn3\n",
    "# from matplotlib_venn import venn\n",
    "from matplotlib import pyplot as plt\n",
    "\n",
    "venn3([pidTrain, pidTest, pidatt], ('Trainpid', 'Testpid', 'attpid'))\n",
    "plt.show()\n",
    "\n",
    "venn3([pidTrain, pidTest, piddesc], ('Trainpid', 'Testpid', 'descpid'))\n",
    "plt.show()"
   ]
  },
  {
   "cell_type": "markdown",
   "metadata": {},
   "source": [
    "#### 3.c Visualization of Train\n",
    "\n",
    "\n",
    "1. Relevance Field in train data.\n",
    "    <br>There are 13 unique values in relevance column of train data. Relevant score that can be given to a product include: Irrelevant (1), Partially or somewhat relevant (2), Perfect match (3).\n",
    "    <br>From relevance_instructions.docx we can see tath multiple experts give their relevance score from which we finally take mean value so we get these decimal values as final result.\n",
    "    <br><b>Note:If we remove anamolous values of relevance which are very less and might be noisy data.</b>"
   ]
  },
  {
   "cell_type": "code",
   "execution_count": 6,
   "metadata": {},
   "outputs": [
    {
     "data": {
      "text/plain": [
       "<matplotlib.axes._subplots.AxesSubplot at 0x11a17b7d0>"
      ]
     },
     "execution_count": 6,
     "metadata": {},
     "output_type": "execute_result"
    },
    {
     "data": {
      "image/png": "[encoded data removed]",
      "text/plain": [
       "<matplotlib.figure.Figure at 0x1149144d0>"
      ]
     },
     "metadata": {},
     "output_type": "display_data"
    }
   ],
   "source": [
    "import seaborn as sns\n",
    "%matplotlib inline\n",
    "\n",
    "sns.countplot(x='relevance', data=train_pdf)\n"
   ]
  },
  {
   "cell_type": "markdown",
   "metadata": {},
   "source": [
    "#### 3.d Visualization of Attribute.csv\n",
    "1. Attribute file has many attributes for each of the product. These attributes include brand name, material, type, waterproof, etc. Some of these features can provide very useful information about the product but some of them are not of much importance. \n",
    "2. Some of the attributes are general information and we can merge them together like all bullet tags or color or color family or brand attributes\n",
    "3. Some attributes are used by judges to find relevance these include material, functionality,etc.\n",
    "Attributes from attribute files are important features to train our model as they provide facet data about the product that are generally used in enterprise search. Users generally uses facets search provided by enterprise search engines to get required results. The attribute file contains these facet information about each product. This is the structured meta data provided by enterprise search engine. This data mostly helps the user to search their product once they have initiated the initial query. Based on the initial query, facets are dynamically generated to help the user get precised product. These different facets can act as multiple features for our model to learn. These features can help us in improving precision of our model.\n",
    "<br>\n",
    "#### Visualization of Description.csv\n",
    "Description file provided to us contains general description about each of the product. The information available in description file corresponds to the unstructured meta data stored by enterprise search engines related to their products. This data is helpful in providing suggestions to the user while performing query search. Description file only consists of sentences about each product so we can only get one feature from this file and consider it as BOW feature. This feature can help us in improving the recall of our model."
   ]
  },
  {
   "cell_type": "code",
   "execution_count": 7,
   "metadata": {},
   "outputs": [
    {
     "data": {
      "text/html": [
       "<div>\n",
       "<table border=\"1\" class=\"dataframe\">\n",
       "  <thead>\n",
       "    <tr style=\"text-align: right;\">\n",
       "      <th></th>\n",
       "      <th>product_uid</th>\n",
       "      <th>name</th>\n",
       "      <th>value</th>\n",
       "    </tr>\n",
       "  </thead>\n",
       "  <tbody>\n",
       "    <tr>\n",
       "      <th>0</th>\n",
       "      <td>100001.0</td>\n",
       "      <td>Bullet01</td>\n",
       "      <td>Versatile connector for various 90° connection...</td>\n",
       "    </tr>\n",
       "    <tr>\n",
       "      <th>1</th>\n",
       "      <td>100001.0</td>\n",
       "      <td>Bullet02</td>\n",
       "      <td>Stronger than angled nailing or screw fastenin...</td>\n",
       "    </tr>\n",
       "    <tr>\n",
       "      <th>2</th>\n",
       "      <td>100001.0</td>\n",
       "      <td>Bullet03</td>\n",
       "      <td>Help ensure joints are consistently straight a...</td>\n",
       "    </tr>\n",
       "    <tr>\n",
       "      <th>3</th>\n",
       "      <td>100001.0</td>\n",
       "      <td>Bullet04</td>\n",
       "      <td>Dimensions: 3 in. x 3 in. x 1-1/2 in.</td>\n",
       "    </tr>\n",
       "    <tr>\n",
       "      <th>4</th>\n",
       "      <td>100001.0</td>\n",
       "      <td>Bullet05</td>\n",
       "      <td>Made from 12-Gauge steel</td>\n",
       "    </tr>\n",
       "  </tbody>\n",
       "</table>\n",
       "</div>"
      ],
      "text/plain": [
       "   product_uid      name                                              value\n",
       "0     100001.0  Bullet01  Versatile connector for various 90° connection...\n",
       "1     100001.0  Bullet02  Stronger than angled nailing or screw fastenin...\n",
       "2     100001.0  Bullet03  Help ensure joints are consistently straight a...\n",
       "3     100001.0  Bullet04              Dimensions: 3 in. x 3 in. x 1-1/2 in.\n",
       "4     100001.0  Bullet05                           Made from 12-Gauge steel"
      ]
     },
     "execution_count": 7,
     "metadata": {},
     "output_type": "execute_result"
    }
   ],
   "source": [
    "import numpy as np\n",
    "\n",
    "# get different types of attributes available\n",
    "# remove numeric values\n",
    "attribute_pdf = attribute_pdf.dropna()\n",
    "idx = np.where(attribute_pdf[['value']].applymap(lambda x: not x.isdigit()))[0]\n",
    "attribute = attribute_pdf.ix[idx]\n",
    "attribute.head()\n"
   ]
  },
  {
   "cell_type": "markdown",
   "metadata": {
    "collapsed": true
   },
   "source": [
    "## 4. Data Pre-Processing\n",
    "Based on the information we gathered by performing data exploration, we can now perform data preprocessing to remove unwanted data and also to clean our data. The data provided to. us in train file is least helpful in performing features enginerring so we need to gather as much information available from other resources to get relevant features.\n",
    "\n",
    "#### 4.1. Convert data into lower case\n",
    "The data available to us contains in each of the file is in both cases. We need to convert our data into some specific case in order to avoid mistatch due to different case. In our case the case of the terms is irrelevant and will only reduce the possibility of matching correct results. By converting it into small case I am assuring match irrespective of the case of the terms."
   ]
  },
  {
   "cell_type": "code",
   "execution_count": 8,
   "metadata": {},
   "outputs": [
    {
     "data": {
      "text/html": [
       "<div>\n",
       "<table border=\"1\" class=\"dataframe\">\n",
       "  <thead>\n",
       "    <tr style=\"text-align: right;\">\n",
       "      <th></th>\n",
       "      <th>product_uid</th>\n",
       "      <th>name</th>\n",
       "      <th>value</th>\n",
       "    </tr>\n",
       "  </thead>\n",
       "  <tbody>\n",
       "    <tr>\n",
       "      <th>0</th>\n",
       "      <td>100001.0</td>\n",
       "      <td>bullet01</td>\n",
       "      <td>versatile connector for various 90° connection...</td>\n",
       "    </tr>\n",
       "    <tr>\n",
       "      <th>1</th>\n",
       "      <td>100001.0</td>\n",
       "      <td>bullet02</td>\n",
       "      <td>stronger than angled nailing or screw fastenin...</td>\n",
       "    </tr>\n",
       "    <tr>\n",
       "      <th>2</th>\n",
       "      <td>100001.0</td>\n",
       "      <td>bullet03</td>\n",
       "      <td>help ensure joints are consistently straight a...</td>\n",
       "    </tr>\n",
       "    <tr>\n",
       "      <th>3</th>\n",
       "      <td>100001.0</td>\n",
       "      <td>bullet04</td>\n",
       "      <td>dimensions: 3 in. x 3 in. x 1-1/2 in.</td>\n",
       "    </tr>\n",
       "    <tr>\n",
       "      <th>4</th>\n",
       "      <td>100001.0</td>\n",
       "      <td>bullet05</td>\n",
       "      <td>made from 12-gauge steel</td>\n",
       "    </tr>\n",
       "  </tbody>\n",
       "</table>\n",
       "</div>"
      ],
      "text/plain": [
       "   product_uid      name                                              value\n",
       "0     100001.0  bullet01  versatile connector for various 90° connection...\n",
       "1     100001.0  bullet02  stronger than angled nailing or screw fastenin...\n",
       "2     100001.0  bullet03  help ensure joints are consistently straight a...\n",
       "3     100001.0  bullet04              dimensions: 3 in. x 3 in. x 1-1/2 in.\n",
       "4     100001.0  bullet05                           made from 12-gauge steel"
      ]
     },
     "execution_count": 8,
     "metadata": {},
     "output_type": "execute_result"
    }
   ],
   "source": [
    "# convert the string data in lower case\n",
    "\n",
    "train_pdf['product_title'] = train_pdf.product_title.str.lower()\n",
    "train_pdf['search_term'] = train_pdf.search_term.str.lower()\n",
    "\n",
    "test_pdf['product_title'] = test_pdf.product_title.str.lower()\n",
    "test_pdf['search_term'] = test_pdf.search_term.str.lower()\n",
    "\n",
    "attribute_pdf['name'] = attribute_pdf.name.str.lower()\n",
    "attribute_pdf['value'] = attribute_pdf.value.str.lower()\n",
    "\n",
    "product_desc_pdf['product_description'] = product_desc_pdf.product_description.str.lower()\n",
    "\n",
    "# train_pdf.head()\n",
    "attribute_pdf.head()"
   ]
  },
  {
   "cell_type": "markdown",
   "metadata": {},
   "source": [
    "#### 4.2.  Merge similar attributes of attribute file based on exploration done earlier.\n",
    "\n",
    "During data exploration we found out that Attributes file contains different facet information about each of the products. These specifications help in distinguishing multiple products and also increasing possibility of a match. Not all the facet information is useful some of them are hardly used by users to perform search. So we can only focus on the attributes that are very common(based on frequency)."
   ]
  },
  {
   "cell_type": "code",
   "execution_count": 9,
   "metadata": {
    "collapsed": true
   },
   "outputs": [],
   "source": [
    "# remove null rows from attribute\n",
    "attribute_pdf = attribute_pdf.dropna()\n",
    "\n",
    "# combine rows based on product id with multiple brand names\n",
    "brand_names = attribute_pdf[attribute_pdf['name'].str.contains('brand')][['product_uid', 'value']].rename(columns={\"value\": \"brand\"})\n",
    "brand_names = brand_names.groupby('product_uid')['brand'].apply(' '.join).reset_index()\n",
    "\n",
    "# combine rows based on product id with multiple bullet names\n",
    "bullet = attribute_pdf[attribute_pdf['name'].str.contains('bullet')][['product_uid', 'value']].rename(columns={\"value\": \"bullet\"})\n",
    "bullet = bullet.groupby('product_uid')['bullet'].apply(' '.join).reset_index()\n",
    "\n",
    "# combine rows based on product id with multiple color values\n",
    "color_family = attribute_pdf[attribute_pdf['name'].str.contains('color family')][['product_uid', 'value']].rename(columns={\"value\": \"color\"})\n",
    "color_finish = attribute_pdf[attribute_pdf['name'].str.contains('color/finish')][['product_uid', 'value']].rename(columns={\"value\": \"color\"})\n",
    "color = pd.concat([color_family, color_finish])\n",
    "color = color.groupby('product_uid')['color'].apply(' '.join).reset_index()\n",
    "\n",
    "# combine rows based on product id with multiple material values\n",
    "material = attribute_pdf[attribute_pdf['name'].str.contains('material') ][['product_uid', 'value']].rename(columns={\"value\": \"material\"})\n",
    "material = material.groupby('product_uid')['material'].apply(' '.join).reset_index()\n",
    "\n",
    "# combine rows based on product id with multiple function values\n",
    "function = attribute_pdf[attribute_pdf['name'].str.contains('function')][['product_uid','name', 'value']].rename(columns={\"value\": \"function\"})\n",
    "function = function[function['function'] != 'no'][['product_uid','name', 'function']].reset_index()\n",
    "idx = list(np.where(function['function'] != 'yes' ))\n",
    "for x in idx:\n",
    "    function['name'][x] = function['function'][x]\n",
    "function = function[['product_uid','name']].rename(columns={\"name\": \"function\"})\n",
    "\n",
    "function = function.groupby('product_uid')['function'].apply(' '.join).reset_index()\n"
   ]
  },
  {
   "cell_type": "code",
   "execution_count": 10,
   "metadata": {
    "collapsed": true
   },
   "outputs": [],
   "source": [
    "# pickle the progress made till now\n",
    "import pickle\n",
    "\n",
    "train_pdf.to_pickle('train_pandas')\n",
    "test_pdf.to_pickle('test_pandas')"
   ]
  },
  {
   "cell_type": "markdown",
   "metadata": {},
   "source": [
    "#### 4.3. Merge data extracted from attributes and description to train and test\n",
    "\n",
    "The important attributes that we obtained from attributes.csv file needs to be mearged with the train file coprresponding to the product which it represents. We also get basin description about the product from description file which act as a single feature for our model. We can consider this feature as a bag of word and can use it later for finding similarity.\n",
    "\n",
    "#### Since a new dataframe is created, we should del older ones and call garbage collector to avoid memory issues."
   ]
  },
  {
   "cell_type": "code",
   "execution_count": 11,
   "metadata": {
    "scrolled": false
   },
   "outputs": [
    {
     "name": "stdout",
     "output_type": "stream",
     "text": [
      "<class 'pandas.core.frame.DataFrame'>\n",
      "Int64Index: 166693 entries, 0 to 166692\n",
      "Data columns (total 10 columns):\n",
      "id                     166693 non-null int64\n",
      "product_uid            166693 non-null int64\n",
      "product_title          166693 non-null object\n",
      "search_term            166693 non-null object\n",
      "brand                  166693 non-null object\n",
      "color                  166693 non-null object\n",
      "bullet                 166693 non-null object\n",
      "material               166693 non-null object\n",
      "function               166693 non-null object\n",
      "product_description    166693 non-null object\n",
      "dtypes: int64(2), object(8)\n",
      "memory usage: 14.0+ MB\n",
      "None\n",
      "<class 'pandas.core.frame.DataFrame'>\n",
      "Int64Index: 74067 entries, 0 to 74066\n",
      "Data columns (total 11 columns):\n",
      "id                     74067 non-null int64\n",
      "product_uid            74067 non-null int64\n",
      "product_title          74067 non-null object\n",
      "search_term            74067 non-null object\n",
      "brand                  74067 non-null object\n",
      "color                  74067 non-null object\n",
      "bullet                 74067 non-null object\n",
      "material               74067 non-null object\n",
      "function               74067 non-null object\n",
      "product_description    74067 non-null object\n",
      "relevance              74067 non-null float64\n",
      "dtypes: float64(1), int64(2), object(8)\n",
      "memory usage: 6.8+ MB\n",
      "None\n"
     ]
    }
   ],
   "source": [
    "# Merge brand to train and test\n",
    "\n",
    "import gc\n",
    "\n",
    "merged_train = pd.merge(train_pdf, brand_names, on=\"product_uid\", how=\"left\")\n",
    "merged_train.brand.fillna(\"unknown\", inplace=True)\n",
    "\n",
    "merged_test = pd.merge(test_pdf, brand_names, on=\"product_uid\", how=\"left\")\n",
    "merged_test.brand.fillna(\"unknown\", inplace=True)\n",
    "\n",
    "\n",
    "# Merge color to train and test\n",
    "# color.info()\n",
    "merged_train = pd.merge(merged_train, color, on=\"product_uid\", how=\"left\")\n",
    "merged_train.color.fillna(\"unknown\", inplace=True)\n",
    "\n",
    "merged_test = pd.merge(merged_test, color, on=\"product_uid\", how=\"left\")\n",
    "merged_test.color.fillna(\"unknown\", inplace=True)\n",
    "\n",
    "\n",
    "# Merge bullet to train and test\n",
    "merged_train = pd.merge(merged_train, bullet, on=\"product_uid\", how=\"left\")\n",
    "merged_train.bullet.fillna(\"unknown\", inplace=True)\n",
    "\n",
    "merged_test = pd.merge(merged_test, bullet, on=\"product_uid\", how=\"left\")\n",
    "merged_test.bullet.fillna(\"unknown\", inplace=True)\n",
    "\n",
    "\n",
    "# Merge material to train and test\n",
    "merged_train = pd.merge(merged_train, material, on=\"product_uid\", how=\"left\")\n",
    "merged_train.material.fillna(\"unknown\", inplace=True)\n",
    "\n",
    "merged_test = pd.merge(merged_test, material, on=\"product_uid\", how=\"left\")\n",
    "merged_test.material.fillna(\"unknown\", inplace=True)\n",
    "\n",
    "\n",
    "# Merge function to train and test\n",
    "merged_train = pd.merge(merged_train, function, on=\"product_uid\", how=\"left\")\n",
    "merged_train.function.fillna(\"unknown\", inplace=True)\n",
    "\n",
    "merged_test = pd.merge(merged_test, function, on=\"product_uid\", how=\"left\")\n",
    "merged_test.function.fillna(\"unknown\", inplace=True)\n",
    "\n",
    "\n",
    "#merge product description as well\n",
    "merged_train = pd.merge(merged_train, product_desc_pdf, on=\"product_uid\", how=\"left\")\n",
    "merged_test = pd.merge(merged_test, product_desc_pdf, on=\"product_uid\", how=\"left\")\n",
    "\n",
    "# make relevance the last column\n",
    "merged_train['relevance'] = merged_train.pop('relevance')\n",
    "\n",
    "# delete previous dataframes\n",
    "del train_pdf\n",
    "del test_pdf\n",
    "gc.collect()\n",
    "\n",
    "print merged_test.info()\n",
    "print merged_train.info()\n"
   ]
  },
  {
   "cell_type": "markdown",
   "metadata": {
    "collapsed": true
   },
   "source": [
    "#### 4.4. Remove anomolies of relevance score from train data\n",
    "\n",
    "On analysing the relevance score in train.csv, we can see tha some of the relevance score occur very less compared to majority of relevance scores. We do not of consider these entries while training as we do not have much information about these and these might also represent noisy data. "
   ]
  },
  {
   "cell_type": "code",
   "execution_count": 17,
   "metadata": {},
   "outputs": [
    {
     "data": {
      "text/html": [
       "<div>\n",
       "<table border=\"1\" class=\"dataframe\">\n",
       "  <thead>\n",
       "    <tr style=\"text-align: right;\">\n",
       "      <th></th>\n",
       "      <th>id</th>\n",
       "    </tr>\n",
       "    <tr>\n",
       "      <th>relevance</th>\n",
       "      <th></th>\n",
       "    </tr>\n",
       "  </thead>\n",
       "  <tbody>\n",
       "    <tr>\n",
       "      <th>1.00</th>\n",
       "      <td>2105</td>\n",
       "    </tr>\n",
       "    <tr>\n",
       "      <th>1.25</th>\n",
       "      <td>4</td>\n",
       "    </tr>\n",
       "    <tr>\n",
       "      <th>1.33</th>\n",
       "      <td>3006</td>\n",
       "    </tr>\n",
       "    <tr>\n",
       "      <th>1.50</th>\n",
       "      <td>5</td>\n",
       "    </tr>\n",
       "    <tr>\n",
       "      <th>1.67</th>\n",
       "      <td>6780</td>\n",
       "    </tr>\n",
       "    <tr>\n",
       "      <th>1.75</th>\n",
       "      <td>9</td>\n",
       "    </tr>\n",
       "    <tr>\n",
       "      <th>2.00</th>\n",
       "      <td>11730</td>\n",
       "    </tr>\n",
       "    <tr>\n",
       "      <th>2.25</th>\n",
       "      <td>11</td>\n",
       "    </tr>\n",
       "    <tr>\n",
       "      <th>2.33</th>\n",
       "      <td>16060</td>\n",
       "    </tr>\n",
       "    <tr>\n",
       "      <th>2.50</th>\n",
       "      <td>19</td>\n",
       "    </tr>\n",
       "    <tr>\n",
       "      <th>2.67</th>\n",
       "      <td>15202</td>\n",
       "    </tr>\n",
       "    <tr>\n",
       "      <th>2.75</th>\n",
       "      <td>11</td>\n",
       "    </tr>\n",
       "    <tr>\n",
       "      <th>3.00</th>\n",
       "      <td>19125</td>\n",
       "    </tr>\n",
       "  </tbody>\n",
       "</table>\n",
       "</div>"
      ],
      "text/plain": [
       "              id\n",
       "relevance       \n",
       "1.00        2105\n",
       "1.25           4\n",
       "1.33        3006\n",
       "1.50           5\n",
       "1.67        6780\n",
       "1.75           9\n",
       "2.00       11730\n",
       "2.25          11\n",
       "2.33       16060\n",
       "2.50          19\n",
       "2.67       15202\n",
       "2.75          11\n",
       "3.00       19125"
      ]
     },
     "execution_count": 17,
     "metadata": {},
     "output_type": "execute_result"
    }
   ],
   "source": [
    "df = merged_train[['relevance','id']].copy()\n",
    "df.groupby('relevance').count()"
   ]
  },
  {
   "cell_type": "code",
   "execution_count": 18,
   "metadata": {},
   "outputs": [
    {
     "data": {
      "text/html": [
       "<div>\n",
       "<table border=\"1\" class=\"dataframe\">\n",
       "  <thead>\n",
       "    <tr style=\"text-align: right;\">\n",
       "      <th></th>\n",
       "      <th>id</th>\n",
       "    </tr>\n",
       "    <tr>\n",
       "      <th>relevance</th>\n",
       "      <th></th>\n",
       "    </tr>\n",
       "  </thead>\n",
       "  <tbody>\n",
       "    <tr>\n",
       "      <th>1.00</th>\n",
       "      <td>2105</td>\n",
       "    </tr>\n",
       "    <tr>\n",
       "      <th>1.33</th>\n",
       "      <td>3006</td>\n",
       "    </tr>\n",
       "    <tr>\n",
       "      <th>1.67</th>\n",
       "      <td>6780</td>\n",
       "    </tr>\n",
       "    <tr>\n",
       "      <th>2.00</th>\n",
       "      <td>11730</td>\n",
       "    </tr>\n",
       "    <tr>\n",
       "      <th>2.33</th>\n",
       "      <td>16060</td>\n",
       "    </tr>\n",
       "    <tr>\n",
       "      <th>2.67</th>\n",
       "      <td>15202</td>\n",
       "    </tr>\n",
       "    <tr>\n",
       "      <th>3.00</th>\n",
       "      <td>19125</td>\n",
       "    </tr>\n",
       "  </tbody>\n",
       "</table>\n",
       "</div>"
      ],
      "text/plain": [
       "              id\n",
       "relevance       \n",
       "1.00        2105\n",
       "1.33        3006\n",
       "1.67        6780\n",
       "2.00       11730\n",
       "2.33       16060\n",
       "2.67       15202\n",
       "3.00       19125"
      ]
     },
     "execution_count": 18,
     "metadata": {},
     "output_type": "execute_result"
    }
   ],
   "source": [
    "# Remove relevance score values that were anamolous values\n",
    "\n",
    "merged_train = merged_train[merged_train.relevance.isin([1.25,1.5,1.75,2.25,2.5,2.75]) == False]\n",
    "df = merged_train[['relevance','id']].copy()\n",
    "df.groupby('relevance').count()"
   ]
  },
  {
   "cell_type": "markdown",
   "metadata": {},
   "source": [
    "#### 4.5 Clean the data\n",
    "Cleaning the data provided to us is important because The data in train, attribute and description file contains some characters other than letters. All these punctuations, special characters, etc. will reduce the efficiency of our training model. This is because when a user performs search they often query using terms containing letters. Sometimes the query might contain numeric values but its not very often so removing characters other than letters can help improve the model learning. The only character other than letters I am storing is '-'. This is because it lets us know about the coined terms."
   ]
  },
  {
   "cell_type": "code",
   "execution_count": 19,
   "metadata": {
    "collapsed": true
   },
   "outputs": [],
   "source": [
    "import re\n",
    "\n",
    "merged_train['product_description'] = merged_train['product_description'].apply(lambda x: re.split(r\"[^\\w-]+\",' '.join(x.split()))).apply(' '.join)\n",
    "merged_train['product_title'] = merged_train['product_title'].apply(lambda x: re.split(r\"[^\\w-]+\",' '.join(x.split()))).apply(' '.join)\n",
    "merged_train['search_term'] = merged_train['product_title'].apply(lambda x: re.split(r\"[^\\w-]+\",' '.join(x.split()))).apply(' '.join)\n",
    "merged_train['brand'] = merged_train['product_title'].apply(lambda x: re.split(r\"[^\\w-]+\",' '.join(x.split()))).apply(' '.join)\n",
    "merged_train['bullet'] = merged_train['bullet'].apply(lambda x: re.split(r\"[^\\w-]+\",' '.join(x.split()))).apply(' '.join)\n",
    "merged_train['color'] = merged_train['color'].apply(lambda x: re.split(r\"[^\\w-]+\",' '.join(x.split()))).apply(' '.join)\n",
    "merged_train['material'] = merged_train['material'].apply(lambda x: re.split(r\"[^\\w-]+\",' '.join(x.split()))).apply(' '.join)\n",
    "merged_train['function'] = merged_train['function'].apply(lambda x: re.split(r\"[^\\w-]+\",' '.join(x.split()))).apply(' '.join)\n",
    "\n",
    "merged_test['product_description'] = merged_test['product_description'].apply(lambda x: re.split(r\"[^\\w-]+\",' '.join(x.split()))).apply(' '.join)\n",
    "merged_test['product_title'] = merged_test['product_title'].apply(lambda x: re.split(r\"[^\\w-]+\",' '.join(x.split()))).apply(' '.join)\n",
    "merged_test['search_term'] = merged_test['product_title'].apply(lambda x: re.split(r\"[^\\w-]+\",' '.join(x.split()))).apply(' '.join)\n",
    "merged_test['brand'] = merged_test['product_title'].apply(lambda x: re.split(r\"[^\\w-]+\",' '.join(x.split()))).apply(' '.join)\n",
    "merged_test['bullet'] = merged_test['bullet'].apply(lambda x: re.split(r\"[^\\w-]+\",' '.join(x.split()))).apply(' '.join)\n",
    "merged_test['color'] = merged_test['color'].apply(lambda x: re.split(r\"[^\\w-]+\",' '.join(x.split()))).apply(' '.join)\n",
    "merged_test['material'] = merged_test['material'].apply(lambda x: re.split(r\"[^\\w-]+\",' '.join(x.split()))).apply(' '.join)\n",
    "merged_test['function'] = merged_test['function'].apply(lambda x: re.split(r\"[^\\w-]+\",' '.join(x.split()))).apply(' '.join)\n"
   ]
  },
  {
   "cell_type": "code",
   "execution_count": 20,
   "metadata": {
    "collapsed": true
   },
   "outputs": [],
   "source": [
    "# pickle data\n",
    "merged_train.to_pickle('cleaned_train')\n",
    "merged_test.to_pickle('cleaned_test')\n"
   ]
  },
  {
   "cell_type": "code",
   "execution_count": 21,
   "metadata": {
    "collapsed": true
   },
   "outputs": [],
   "source": [
    "# read from cleaned files\n",
    "merged_train = pd.read_pickle('cleaned_train')\n",
    "merged_test = pd.read_pickle('cleaned_test')\n"
   ]
  },
  {
   "cell_type": "code",
   "execution_count": 22,
   "metadata": {},
   "outputs": [
    {
     "name": "stdout",
     "output_type": "stream",
     "text": [
      "<class 'pandas.core.frame.DataFrame'>\n",
      "Int64Index: 74008 entries, 0 to 74066\n",
      "Data columns (total 11 columns):\n",
      "id                     74008 non-null int64\n",
      "product_uid            74008 non-null int64\n",
      "product_title          74008 non-null object\n",
      "search_term            74008 non-null object\n",
      "brand                  74008 non-null object\n",
      "color                  74008 non-null object\n",
      "bullet                 74008 non-null object\n",
      "material               74008 non-null object\n",
      "function               74008 non-null object\n",
      "product_description    74008 non-null object\n",
      "relevance              74008 non-null float64\n",
      "dtypes: float64(1), int64(2), object(8)\n",
      "memory usage: 6.8+ MB\n",
      "None\n",
      "<class 'pandas.core.frame.DataFrame'>\n",
      "Int64Index: 166693 entries, 0 to 166692\n",
      "Data columns (total 10 columns):\n",
      "id                     166693 non-null int64\n",
      "product_uid            166693 non-null int64\n",
      "product_title          166693 non-null object\n",
      "search_term            166693 non-null object\n",
      "brand                  166693 non-null object\n",
      "color                  166693 non-null object\n",
      "bullet                 166693 non-null object\n",
      "material               166693 non-null object\n",
      "function               166693 non-null object\n",
      "product_description    166693 non-null object\n",
      "dtypes: int64(2), object(8)\n",
      "memory usage: 14.0+ MB\n",
      "None\n"
     ]
    }
   ],
   "source": [
    "print merged_train.info()\n",
    "print merged_test.info()"
   ]
  },
  {
   "cell_type": "markdown",
   "metadata": {},
   "source": [
    "#### 4.4. Handle Typos in the search term of train and test\n",
    "There are very high chances of making spelling mistakes/Typos while querying for a product. This is very common among humans. Almost 13% of the search terms provided to us contain Typos (cited from information provided on kaggle). To take into considerations human errors we need to consider typing errors made while performing product search."
   ]
  },
  {
   "cell_type": "code",
   "execution_count": 23,
   "metadata": {
    "collapsed": true
   },
   "outputs": [],
   "source": [
    "from spelling_checker_dict import spelling_checker_dict\n",
    "\n",
    "# This dictionary was available on kaggle site where it was shared under kernel for this particular task.\n",
    "# Convert the data present in the dictionary to lower case.\n",
    "spelling_checker_dict = dict((k.lower() if isinstance(k, basestring) else k, v.lower() if isinstance(v, basestring) else v) for k,v in spelling_checker_dict.iteritems())\n",
    "\n",
    "merged_train['search_term'] = merged_train['search_term'].replace(spelling_checker_dict)\n",
    "merged_test['search_term'] = merged_test['search_term'].replace(spelling_checker_dict)\n",
    "    "
   ]
  },
  {
   "cell_type": "code",
   "execution_count": 29,
   "metadata": {
    "collapsed": true
   },
   "outputs": [],
   "source": [
    "# pickle data after typos are handled\n",
    "merged_train.to_pickle('typos_train')\n",
    "merged_test.to_pickle('typos_test')\n"
   ]
  },
  {
   "cell_type": "code",
   "execution_count": 30,
   "metadata": {},
   "outputs": [
    {
     "name": "stdout",
     "output_type": "stream",
     "text": [
      "<class 'pandas.core.frame.DataFrame'>\n",
      "Int64Index: 74008 entries, 0 to 74066\n",
      "Data columns (total 11 columns):\n",
      "id                     74008 non-null int64\n",
      "product_uid            74008 non-null int64\n",
      "product_title          74008 non-null object\n",
      "search_term            74008 non-null object\n",
      "brand                  74008 non-null object\n",
      "color                  74008 non-null object\n",
      "bullet                 74008 non-null object\n",
      "material               74008 non-null object\n",
      "function               74008 non-null object\n",
      "product_description    74008 non-null object\n",
      "relevance              74008 non-null float64\n",
      "dtypes: float64(1), int64(2), object(8)\n",
      "memory usage: 6.8+ MB\n",
      "None\n",
      "<class 'pandas.core.frame.DataFrame'>\n",
      "Int64Index: 166693 entries, 0 to 166692\n",
      "Data columns (total 10 columns):\n",
      "id                     166693 non-null int64\n",
      "product_uid            166693 non-null int64\n",
      "product_title          166693 non-null object\n",
      "search_term            166693 non-null object\n",
      "brand                  166693 non-null object\n",
      "color                  166693 non-null object\n",
      "bullet                 166693 non-null object\n",
      "material               166693 non-null object\n",
      "function               166693 non-null object\n",
      "product_description    166693 non-null object\n",
      "dtypes: int64(2), object(8)\n",
      "memory usage: 14.0+ MB\n",
      "None\n"
     ]
    }
   ],
   "source": [
    "print merged_train.info()\n",
    "print merged_test.info()"
   ]
  },
  {
   "cell_type": "code",
   "execution_count": 31,
   "metadata": {
    "collapsed": true
   },
   "outputs": [],
   "source": [
    "# read stored data\n",
    "merged_train = pd.read_pickle('typos_train')\n",
    "merged_test = pd.read_pickle('typos_test')"
   ]
  },
  {
   "cell_type": "markdown",
   "metadata": {},
   "source": [
    "#### 4.6. Stop word removal from train and test\n",
    "Some of the attributes extracted from the attribute file contains information in form of sentences. This is also true in the case of description file. All such features contain some word that do not provide any meaningful information for training the model. These words often occur and will result into wrong estimation of features like overlap, tf-idf, ratio of match, etc. All these stop words can be removed before calculating any similarity based features. I will be using NLTK corpus stopwords vocab for cleaning the data."
   ]
  },
  {
   "cell_type": "code",
   "execution_count": 32,
   "metadata": {
    "collapsed": true
   },
   "outputs": [],
   "source": [
    "# used nltk corpus english stopwords\n",
    "from nltk.corpus import stopwords\n",
    "stop = stopwords.words('english')\n",
    "\n",
    "merged_train['product_title'] = merged_train['product_title'].apply(lambda x: [item for item in x.split() if item not in stop])\n",
    "merged_train['bullet'] = merged_train['bullet'].apply(lambda x: [item for item in x.split() if item not in stop])\n",
    "merged_train['product_description'] = merged_train['product_description'].apply(lambda x: [item for item in x.split() if item not in stop])\n",
    "merged_train['brand'] = merged_train['brand'].apply(lambda x: [item for item in x.split() if item not in stop])\n",
    "merged_train['function'] = merged_train['function'].apply(lambda x: [item for item in x.split() if item not in stop])\n",
    "\n",
    "merged_test['product_title'] = merged_test['product_title'].apply(lambda x: [item for item in x.split() if item not in stop])\n",
    "merged_test['bullet'] = merged_test['bullet'].apply(lambda x: [item for item in x.split() if item not in stop])\n",
    "merged_test['product_description'] = merged_test['product_description'].apply(lambda x: [item for item in x.split() if item not in stop])\n",
    "merged_test['brand'] = merged_test['brand'].apply(lambda x: [item for item in x.split() if item not in stop])\n",
    "merged_test['function'] = merged_test['function'].apply(lambda x: [item for item in x.split() if item not in stop])\n"
   ]
  },
  {
   "cell_type": "code",
   "execution_count": 33,
   "metadata": {
    "collapsed": true
   },
   "outputs": [],
   "source": [
    "# pickle the data\n",
    "merged_train.to_pickle('stop_train')\n",
    "merged_test.to_pickle('stop_test')"
   ]
  },
  {
   "cell_type": "code",
   "execution_count": 50,
   "metadata": {
    "collapsed": true
   },
   "outputs": [],
   "source": [
    "# read stored data\n",
    "merged_train = pd.read_pickle('stop_train')\n",
    "merged_test = pd.read_pickle('stop_test')"
   ]
  },
  {
   "cell_type": "code",
   "execution_count": 51,
   "metadata": {},
   "outputs": [
    {
     "data": {
      "text/html": [
       "<div>\n",
       "<table border=\"1\" class=\"dataframe\">\n",
       "  <thead>\n",
       "    <tr style=\"text-align: right;\">\n",
       "      <th></th>\n",
       "      <th>id</th>\n",
       "      <th>product_uid</th>\n",
       "      <th>product_title</th>\n",
       "      <th>search_term</th>\n",
       "      <th>brand</th>\n",
       "      <th>color</th>\n",
       "      <th>bullet</th>\n",
       "      <th>material</th>\n",
       "      <th>function</th>\n",
       "      <th>product_description</th>\n",
       "      <th>relevance</th>\n",
       "    </tr>\n",
       "  </thead>\n",
       "  <tbody>\n",
       "    <tr>\n",
       "      <th>0</th>\n",
       "      <td>2</td>\n",
       "      <td>100001</td>\n",
       "      <td>[simpson, strong-tie, 12-gauge, angle]</td>\n",
       "      <td>simpson strong-tie 12-gauge angle</td>\n",
       "      <td>[simpson, strong-tie, 12-gauge, angle]</td>\n",
       "      <td>unknown</td>\n",
       "      <td>[versatile, connector, various, 90, connection...</td>\n",
       "      <td>galvanized steel</td>\n",
       "      <td>[unknown]</td>\n",
       "      <td>[angles, make, joints, stronger, also, provide...</td>\n",
       "      <td>3.0</td>\n",
       "    </tr>\n",
       "    <tr>\n",
       "      <th>2</th>\n",
       "      <td>9</td>\n",
       "      <td>100002</td>\n",
       "      <td>[behr, premium, textured, deckover, 1-gal, sc-...</td>\n",
       "      <td>behr premium textured deckover 1-gal sc-141 tu...</td>\n",
       "      <td>[behr, premium, textured, deckover, 1-gal, sc-...</td>\n",
       "      <td>browns tans tugboat</td>\n",
       "      <td>[revives, wood, composite, decks, railings, po...</td>\n",
       "      <td>unknown</td>\n",
       "      <td>[unknown]</td>\n",
       "      <td>[behr, premium, textured, deckover, innovative...</td>\n",
       "      <td>3.0</td>\n",
       "    </tr>\n",
       "  </tbody>\n",
       "</table>\n",
       "</div>"
      ],
      "text/plain": [
       "   id  product_uid                                      product_title  \\\n",
       "0   2       100001             [simpson, strong-tie, 12-gauge, angle]   \n",
       "2   9       100002  [behr, premium, textured, deckover, 1-gal, sc-...   \n",
       "\n",
       "                                         search_term  \\\n",
       "0                  simpson strong-tie 12-gauge angle   \n",
       "2  behr premium textured deckover 1-gal sc-141 tu...   \n",
       "\n",
       "                                               brand                color  \\\n",
       "0             [simpson, strong-tie, 12-gauge, angle]              unknown   \n",
       "2  [behr, premium, textured, deckover, 1-gal, sc-...  browns tans tugboat   \n",
       "\n",
       "                                              bullet          material  \\\n",
       "0  [versatile, connector, various, 90, connection...  galvanized steel   \n",
       "2  [revives, wood, composite, decks, railings, po...           unknown   \n",
       "\n",
       "    function                                product_description  relevance  \n",
       "0  [unknown]  [angles, make, joints, stronger, also, provide...        3.0  \n",
       "2  [unknown]  [behr, premium, textured, deckover, innovative...        3.0  "
      ]
     },
     "execution_count": 51,
     "metadata": {},
     "output_type": "execute_result"
    }
   ],
   "source": [
    "merged_train.head(2)\n",
    "# print merged_test.head(2)"
   ]
  },
  {
   "cell_type": "code",
   "execution_count": 52,
   "metadata": {
    "collapsed": true
   },
   "outputs": [],
   "source": [
    "# join the list created after removing stop words for each feature\n",
    "merged_train['product_title'] = merged_train['product_title'].apply(' '.join)\n",
    "merged_train['product_description'] = merged_train['product_description'].apply(' '.join)\n",
    "# merged_train['search_term'] = merged_train['search_term'].apply(' '.join)\n",
    "# merged_train['material'] = merged_train['material'].apply(' '.join)\n",
    "# merged_train['color'] = merged_train['color'].apply(' '.join)\n",
    "merged_train['bullet'] = merged_train['bullet'].apply(' '.join)\n",
    "merged_train['brand'] = merged_train['brand'].apply(' '.join)\n",
    "merged_train['function'] = merged_train['function'].apply(' '.join)\n",
    "\n",
    "merged_test['product_title'] = merged_test['product_title'].apply(' '.join)\n",
    "merged_test['product_description'] = merged_test['product_description'].apply(' '.join)\n",
    "merged_test['bullet'] = merged_test['bullet'].apply(' '.join)\n",
    "merged_test['brand'] = merged_test['brand'].apply(' '.join)\n",
    "merged_test['function'] = merged_test['function'].apply(' '.join)\n",
    "# merged_test['search_term'] = merged_test['search_term'].apply(' '.join)\n",
    "# merged_test['material'] = merged_test['material'].apply(' '.join)\n",
    "# merged_test['color'] = merged_test['color'].apply(' '.join)\n",
    "\n"
   ]
  },
  {
   "cell_type": "code",
   "execution_count": 53,
   "metadata": {},
   "outputs": [
    {
     "data": {
      "text/html": [
       "<div>\n",
       "<table border=\"1\" class=\"dataframe\">\n",
       "  <thead>\n",
       "    <tr style=\"text-align: right;\">\n",
       "      <th></th>\n",
       "      <th>id</th>\n",
       "      <th>product_uid</th>\n",
       "      <th>product_title</th>\n",
       "      <th>search_term</th>\n",
       "      <th>brand</th>\n",
       "      <th>color</th>\n",
       "      <th>bullet</th>\n",
       "      <th>material</th>\n",
       "      <th>function</th>\n",
       "      <th>product_description</th>\n",
       "      <th>relevance</th>\n",
       "    </tr>\n",
       "  </thead>\n",
       "  <tbody>\n",
       "    <tr>\n",
       "      <th>0</th>\n",
       "      <td>2</td>\n",
       "      <td>100001</td>\n",
       "      <td>simpson strong-tie 12-gauge angle</td>\n",
       "      <td>simpson strong-tie 12-gauge angle</td>\n",
       "      <td>simpson strong-tie 12-gauge angle</td>\n",
       "      <td>unknown</td>\n",
       "      <td>versatile connector various 90 connections hom...</td>\n",
       "      <td>galvanized steel</td>\n",
       "      <td>unknown</td>\n",
       "      <td>angles make joints stronger also provide consi...</td>\n",
       "      <td>3.00</td>\n",
       "    </tr>\n",
       "    <tr>\n",
       "      <th>2</th>\n",
       "      <td>9</td>\n",
       "      <td>100002</td>\n",
       "      <td>behr premium textured deckover 1-gal sc-141 tu...</td>\n",
       "      <td>behr premium textured deckover 1-gal sc-141 tu...</td>\n",
       "      <td>behr premium textured deckover 1-gal sc-141 tu...</td>\n",
       "      <td>browns tans tugboat</td>\n",
       "      <td>revives wood composite decks railings porches ...</td>\n",
       "      <td>unknown</td>\n",
       "      <td>unknown</td>\n",
       "      <td>behr premium textured deckover innovative soli...</td>\n",
       "      <td>3.00</td>\n",
       "    </tr>\n",
       "    <tr>\n",
       "      <th>3</th>\n",
       "      <td>16</td>\n",
       "      <td>100005</td>\n",
       "      <td>delta vero 1-handle shower faucet trim kit chr...</td>\n",
       "      <td>delta vero 1-handle shower only faucet trim ki...</td>\n",
       "      <td>delta vero 1-handle shower faucet trim kit chr...</td>\n",
       "      <td>chrome chrome</td>\n",
       "      <td>includes trim kit rough-in kit r10000-unbx sol...</td>\n",
       "      <td>unknown</td>\n",
       "      <td>unknown</td>\n",
       "      <td>update bathroom delta vero single-handle showe...</td>\n",
       "      <td>2.33</td>\n",
       "    </tr>\n",
       "    <tr>\n",
       "      <th>4</th>\n",
       "      <td>17</td>\n",
       "      <td>100005</td>\n",
       "      <td>delta vero 1-handle shower faucet trim kit chr...</td>\n",
       "      <td>delta vero 1-handle shower only faucet trim ki...</td>\n",
       "      <td>delta vero 1-handle shower faucet trim kit chr...</td>\n",
       "      <td>chrome chrome</td>\n",
       "      <td>includes trim kit rough-in kit r10000-unbx sol...</td>\n",
       "      <td>unknown</td>\n",
       "      <td>unknown</td>\n",
       "      <td>update bathroom delta vero single-handle showe...</td>\n",
       "      <td>2.67</td>\n",
       "    </tr>\n",
       "    <tr>\n",
       "      <th>5</th>\n",
       "      <td>18</td>\n",
       "      <td>100006</td>\n",
       "      <td>whirlpool 1 9 cu ft range convection microwave...</td>\n",
       "      <td>whirlpool 1 9 cu ft over the range convection ...</td>\n",
       "      <td>whirlpool 1 9 cu ft range convection microwave...</td>\n",
       "      <td>stainless steel stainless</td>\n",
       "      <td>spacious 1 9 cu ft capacity accommodates dinne...</td>\n",
       "      <td>unknown</td>\n",
       "      <td>unknown</td>\n",
       "      <td>achieving delicious results almost effortless ...</td>\n",
       "      <td>3.00</td>\n",
       "    </tr>\n",
       "  </tbody>\n",
       "</table>\n",
       "</div>"
      ],
      "text/plain": [
       "   id  product_uid                                      product_title  \\\n",
       "0   2       100001                  simpson strong-tie 12-gauge angle   \n",
       "2   9       100002  behr premium textured deckover 1-gal sc-141 tu...   \n",
       "3  16       100005  delta vero 1-handle shower faucet trim kit chr...   \n",
       "4  17       100005  delta vero 1-handle shower faucet trim kit chr...   \n",
       "5  18       100006  whirlpool 1 9 cu ft range convection microwave...   \n",
       "\n",
       "                                         search_term  \\\n",
       "0                  simpson strong-tie 12-gauge angle   \n",
       "2  behr premium textured deckover 1-gal sc-141 tu...   \n",
       "3  delta vero 1-handle shower only faucet trim ki...   \n",
       "4  delta vero 1-handle shower only faucet trim ki...   \n",
       "5  whirlpool 1 9 cu ft over the range convection ...   \n",
       "\n",
       "                                               brand  \\\n",
       "0                  simpson strong-tie 12-gauge angle   \n",
       "2  behr premium textured deckover 1-gal sc-141 tu...   \n",
       "3  delta vero 1-handle shower faucet trim kit chr...   \n",
       "4  delta vero 1-handle shower faucet trim kit chr...   \n",
       "5  whirlpool 1 9 cu ft range convection microwave...   \n",
       "\n",
       "                       color  \\\n",
       "0                    unknown   \n",
       "2        browns tans tugboat   \n",
       "3              chrome chrome   \n",
       "4              chrome chrome   \n",
       "5  stainless steel stainless   \n",
       "\n",
       "                                              bullet          material  \\\n",
       "0  versatile connector various 90 connections hom...  galvanized steel   \n",
       "2  revives wood composite decks railings porches ...           unknown   \n",
       "3  includes trim kit rough-in kit r10000-unbx sol...           unknown   \n",
       "4  includes trim kit rough-in kit r10000-unbx sol...           unknown   \n",
       "5  spacious 1 9 cu ft capacity accommodates dinne...           unknown   \n",
       "\n",
       "  function                                product_description  relevance  \n",
       "0  unknown  angles make joints stronger also provide consi...       3.00  \n",
       "2  unknown  behr premium textured deckover innovative soli...       3.00  \n",
       "3  unknown  update bathroom delta vero single-handle showe...       2.33  \n",
       "4  unknown  update bathroom delta vero single-handle showe...       2.67  \n",
       "5  unknown  achieving delicious results almost effortless ...       3.00  "
      ]
     },
     "execution_count": 53,
     "metadata": {},
     "output_type": "execute_result"
    }
   ],
   "source": [
    "merged_train.head(5)\n",
    "# print merged_test.head(4)"
   ]
  },
  {
   "cell_type": "markdown",
   "metadata": {},
   "source": [
    " ##### 4.7.  Stem train and test\n",
    " \n",
    " In our enterprise environment, user can use any of the derivation generated from the root word to match the product. It's highly likely that the user uses some terms which mean the same as a product but still do not match the term used to present that product. To avoid such senarios we need to stem the data to root word to improve the match results. Since we are performing stemming these root words might not be actual words. We can also perform lemmatization instead of stemming. The reason I chose stemming is because our environment does not have information data where lemmatization is more important and here we are not looking for true meaning of the word. Also lemmatization takes more time to perform cleaning compared to stemming."
   ]
  },
  {
   "cell_type": "code",
   "execution_count": 54,
   "metadata": {
    "collapsed": true
   },
   "outputs": [],
   "source": [
    "from nltk.stem.snowball import SnowballStemmer\n",
    "stemmer = SnowballStemmer(\"english\")\n",
    "\n",
    "merged_train['product_title'] = merged_train['product_title'].apply(lambda x: [stemmer.stem(y) for y in x.split()])\n",
    "merged_train['product_description']= merged_train['product_description'].apply(lambda x: [stemmer.stem(y) for y in x.split()])\n",
    "merged_train['search_term'] = merged_train['search_term'].apply(lambda x: [stemmer.stem(y) for y in x.split()])\n",
    "merged_train['bullet'] = merged_train['bullet'].apply(lambda x: [stemmer.stem(y) for y in x.split()])\n",
    "merged_train['brand'] = merged_train['brand'].apply(lambda x: [stemmer.stem(y) for y in x.split()])\n",
    "merged_train['color'] = merged_train['color'].apply(lambda x: [stemmer.stem(y) for y in x.split()])\n",
    "merged_train['material'] = merged_train['material'].apply(lambda x: [stemmer.stem(y) for y in x.split()])\n",
    "merged_train['function'] = merged_train['function'].apply(lambda x: [stemmer.stem(y) for y in x.split()])\n",
    "\n",
    "merged_test['product_title'] = merged_test['product_title'].apply(lambda x: [stemmer.stem(y) for y in x.split()])\n",
    "merged_test['product_description']= merged_test['product_description'].apply(lambda x: [stemmer.stem(y) for y in x.split()])\n",
    "merged_test['search_term'] = merged_test['search_term'].apply(lambda x: [stemmer.stem(y) for y in x.split()])\n",
    "merged_test['bullet'] = merged_test['bullet'].apply(lambda x: [stemmer.stem(y) for y in x.split()])\n",
    "merged_test['brand'] = merged_test['brand'].apply(lambda x: [stemmer.stem(y) for y in x.split()])\n",
    "merged_test['color'] = merged_test['color'].apply(lambda x: [stemmer.stem(y) for y in x.split()])\n",
    "merged_test['function'] = merged_test['function'].apply(lambda x: [stemmer.stem(y) for y in x.split()])\n",
    "merged_test['material'] = merged_test['material'].apply(lambda x: [stemmer.stem(y) for y in x.split()])\n"
   ]
  },
  {
   "cell_type": "code",
   "execution_count": 55,
   "metadata": {
    "collapsed": true
   },
   "outputs": [],
   "source": [
    "# pickle the stemmed data\n",
    "merged_train.to_pickle('stemmed_train')\n",
    "merged_test.to_pickle('stemmed_test')"
   ]
  },
  {
   "cell_type": "code",
   "execution_count": 56,
   "metadata": {
    "collapsed": true
   },
   "outputs": [],
   "source": [
    "merged_train = pd.read_pickle('stemmed_train')\n",
    "merged_test = pd.read_pickle('stemmed_test')"
   ]
  },
  {
   "cell_type": "code",
   "execution_count": 59,
   "metadata": {},
   "outputs": [
    {
     "name": "stdout",
     "output_type": "stream",
     "text": [
      "<class 'pandas.core.frame.DataFrame'>\n",
      "Int64Index: 74008 entries, 0 to 74066\n",
      "Data columns (total 11 columns):\n",
      "id                     74008 non-null int64\n",
      "product_uid            74008 non-null int64\n",
      "product_title          74008 non-null object\n",
      "search_term            74008 non-null object\n",
      "brand                  74008 non-null object\n",
      "color                  74008 non-null object\n",
      "bullet                 74008 non-null object\n",
      "material               74008 non-null object\n",
      "function               74008 non-null object\n",
      "product_description    74008 non-null object\n",
      "relevance              74008 non-null float64\n",
      "dtypes: float64(1), int64(2), object(8)\n",
      "memory usage: 6.8+ MB\n",
      "None\n"
     ]
    },
    {
     "data": {
      "text/html": [
       "<div>\n",
       "<table border=\"1\" class=\"dataframe\">\n",
       "  <thead>\n",
       "    <tr style=\"text-align: right;\">\n",
       "      <th></th>\n",
       "      <th>id</th>\n",
       "      <th>product_uid</th>\n",
       "      <th>product_title</th>\n",
       "      <th>search_term</th>\n",
       "      <th>brand</th>\n",
       "      <th>color</th>\n",
       "      <th>bullet</th>\n",
       "      <th>material</th>\n",
       "      <th>function</th>\n",
       "      <th>product_description</th>\n",
       "      <th>relevance</th>\n",
       "    </tr>\n",
       "  </thead>\n",
       "  <tbody>\n",
       "    <tr>\n",
       "      <th>0</th>\n",
       "      <td>2</td>\n",
       "      <td>100001</td>\n",
       "      <td>[simpson, strong-ti, 12-gaug, angl]</td>\n",
       "      <td>[simpson, strong-ti, 12-gaug, angl]</td>\n",
       "      <td>[simpson, strong-ti, 12-gaug, angl]</td>\n",
       "      <td>[unknown]</td>\n",
       "      <td>[versatil, connector, various, 90, connect, ho...</td>\n",
       "      <td>[galvan, steel]</td>\n",
       "      <td>[unknown]</td>\n",
       "      <td>[angl, make, joint, stronger, also, provid, co...</td>\n",
       "      <td>3.00</td>\n",
       "    </tr>\n",
       "    <tr>\n",
       "      <th>2</th>\n",
       "      <td>9</td>\n",
       "      <td>100002</td>\n",
       "      <td>[behr, premium, textur, deckov, 1-gal, sc-141,...</td>\n",
       "      <td>[behr, premium, textur, deckov, 1-gal, sc-141,...</td>\n",
       "      <td>[behr, premium, textur, deckov, 1-gal, sc-141,...</td>\n",
       "      <td>[brown, tan, tugboat]</td>\n",
       "      <td>[reviv, wood, composit, deck, rail, porch, boa...</td>\n",
       "      <td>[unknown]</td>\n",
       "      <td>[unknown]</td>\n",
       "      <td>[behr, premium, textur, deckov, innov, solid, ...</td>\n",
       "      <td>3.00</td>\n",
       "    </tr>\n",
       "    <tr>\n",
       "      <th>3</th>\n",
       "      <td>16</td>\n",
       "      <td>100005</td>\n",
       "      <td>[delta, vero, 1-handl, shower, faucet, trim, k...</td>\n",
       "      <td>[delta, vero, 1-handl, shower, onli, faucet, t...</td>\n",
       "      <td>[delta, vero, 1-handl, shower, faucet, trim, k...</td>\n",
       "      <td>[chrome, chrome]</td>\n",
       "      <td>[includ, trim, kit, rough-in, kit, r10000-unbx...</td>\n",
       "      <td>[unknown]</td>\n",
       "      <td>[unknown]</td>\n",
       "      <td>[updat, bathroom, delta, vero, single-handl, s...</td>\n",
       "      <td>2.33</td>\n",
       "    </tr>\n",
       "    <tr>\n",
       "      <th>4</th>\n",
       "      <td>17</td>\n",
       "      <td>100005</td>\n",
       "      <td>[delta, vero, 1-handl, shower, faucet, trim, k...</td>\n",
       "      <td>[delta, vero, 1-handl, shower, onli, faucet, t...</td>\n",
       "      <td>[delta, vero, 1-handl, shower, faucet, trim, k...</td>\n",
       "      <td>[chrome, chrome]</td>\n",
       "      <td>[includ, trim, kit, rough-in, kit, r10000-unbx...</td>\n",
       "      <td>[unknown]</td>\n",
       "      <td>[unknown]</td>\n",
       "      <td>[updat, bathroom, delta, vero, single-handl, s...</td>\n",
       "      <td>2.67</td>\n",
       "    </tr>\n",
       "    <tr>\n",
       "      <th>5</th>\n",
       "      <td>18</td>\n",
       "      <td>100006</td>\n",
       "      <td>[whirlpool, 1, 9, cu, ft, rang, convect, micro...</td>\n",
       "      <td>[whirlpool, 1, 9, cu, ft, over, the, rang, con...</td>\n",
       "      <td>[whirlpool, 1, 9, cu, ft, rang, convect, micro...</td>\n",
       "      <td>[stainless, steel, stainless]</td>\n",
       "      <td>[spacious, 1, 9, cu, ft, capac, accommod, dinn...</td>\n",
       "      <td>[unknown]</td>\n",
       "      <td>[unknown]</td>\n",
       "      <td>[achiev, delici, result, almost, effortless, w...</td>\n",
       "      <td>3.00</td>\n",
       "    </tr>\n",
       "  </tbody>\n",
       "</table>\n",
       "</div>"
      ],
      "text/plain": [
       "   id  product_uid                                      product_title  \\\n",
       "0   2       100001                [simpson, strong-ti, 12-gaug, angl]   \n",
       "2   9       100002  [behr, premium, textur, deckov, 1-gal, sc-141,...   \n",
       "3  16       100005  [delta, vero, 1-handl, shower, faucet, trim, k...   \n",
       "4  17       100005  [delta, vero, 1-handl, shower, faucet, trim, k...   \n",
       "5  18       100006  [whirlpool, 1, 9, cu, ft, rang, convect, micro...   \n",
       "\n",
       "                                         search_term  \\\n",
       "0                [simpson, strong-ti, 12-gaug, angl]   \n",
       "2  [behr, premium, textur, deckov, 1-gal, sc-141,...   \n",
       "3  [delta, vero, 1-handl, shower, onli, faucet, t...   \n",
       "4  [delta, vero, 1-handl, shower, onli, faucet, t...   \n",
       "5  [whirlpool, 1, 9, cu, ft, over, the, rang, con...   \n",
       "\n",
       "                                               brand  \\\n",
       "0                [simpson, strong-ti, 12-gaug, angl]   \n",
       "2  [behr, premium, textur, deckov, 1-gal, sc-141,...   \n",
       "3  [delta, vero, 1-handl, shower, faucet, trim, k...   \n",
       "4  [delta, vero, 1-handl, shower, faucet, trim, k...   \n",
       "5  [whirlpool, 1, 9, cu, ft, rang, convect, micro...   \n",
       "\n",
       "                           color  \\\n",
       "0                      [unknown]   \n",
       "2          [brown, tan, tugboat]   \n",
       "3               [chrome, chrome]   \n",
       "4               [chrome, chrome]   \n",
       "5  [stainless, steel, stainless]   \n",
       "\n",
       "                                              bullet         material  \\\n",
       "0  [versatil, connector, various, 90, connect, ho...  [galvan, steel]   \n",
       "2  [reviv, wood, composit, deck, rail, porch, boa...        [unknown]   \n",
       "3  [includ, trim, kit, rough-in, kit, r10000-unbx...        [unknown]   \n",
       "4  [includ, trim, kit, rough-in, kit, r10000-unbx...        [unknown]   \n",
       "5  [spacious, 1, 9, cu, ft, capac, accommod, dinn...        [unknown]   \n",
       "\n",
       "    function                                product_description  relevance  \n",
       "0  [unknown]  [angl, make, joint, stronger, also, provid, co...       3.00  \n",
       "2  [unknown]  [behr, premium, textur, deckov, innov, solid, ...       3.00  \n",
       "3  [unknown]  [updat, bathroom, delta, vero, single-handl, s...       2.33  \n",
       "4  [unknown]  [updat, bathroom, delta, vero, single-handl, s...       2.67  \n",
       "5  [unknown]  [achiev, delici, result, almost, effortless, w...       3.00  "
      ]
     },
     "execution_count": 59,
     "metadata": {},
     "output_type": "execute_result"
    }
   ],
   "source": [
    "print merged_train.info()\n",
    "merged_train.head()\n",
    "# merged_test.info()"
   ]
  },
  {
   "cell_type": "markdown",
   "metadata": {},
   "source": [
    "#### 4.8. Tokenize train and test data\n",
    "\n",
    "To perform all similarity based operations we need to tokenize the data available. If we consider the whole string for similarity then we will skip most of search terms that match the information we have. In order to perform matching properly we need to convert our data into BOW."
   ]
  },
  {
   "cell_type": "code",
   "execution_count": 60,
   "metadata": {},
   "outputs": [
    {
     "data": {
      "text/html": [
       "<div>\n",
       "<table border=\"1\" class=\"dataframe\">\n",
       "  <thead>\n",
       "    <tr style=\"text-align: right;\">\n",
       "      <th></th>\n",
       "      <th>id</th>\n",
       "      <th>product_uid</th>\n",
       "      <th>product_title</th>\n",
       "      <th>search_term</th>\n",
       "      <th>brand</th>\n",
       "      <th>color</th>\n",
       "      <th>bullet</th>\n",
       "      <th>material</th>\n",
       "      <th>function</th>\n",
       "      <th>product_description</th>\n",
       "      <th>relevance</th>\n",
       "    </tr>\n",
       "  </thead>\n",
       "  <tbody>\n",
       "    <tr>\n",
       "      <th>0</th>\n",
       "      <td>2</td>\n",
       "      <td>100001</td>\n",
       "      <td>[simpson, strong-ti, 12-gaug, angl]</td>\n",
       "      <td>[simpson, strong-ti, 12-gaug, angl]</td>\n",
       "      <td>[simpson, strong-ti, 12-gaug, angl]</td>\n",
       "      <td>[unknown]</td>\n",
       "      <td>[versatil, connector, various, 90, connect, ho...</td>\n",
       "      <td>[galvan, steel]</td>\n",
       "      <td>[unknown]</td>\n",
       "      <td>[angl, make, joint, stronger, also, provid, co...</td>\n",
       "      <td>3.00</td>\n",
       "    </tr>\n",
       "    <tr>\n",
       "      <th>2</th>\n",
       "      <td>9</td>\n",
       "      <td>100002</td>\n",
       "      <td>[behr, premium, textur, deckov, 1-gal, sc-141,...</td>\n",
       "      <td>[behr, premium, textur, deckov, 1-gal, sc-141,...</td>\n",
       "      <td>[behr, premium, textur, deckov, 1-gal, sc-141,...</td>\n",
       "      <td>[brown, tan, tugboat]</td>\n",
       "      <td>[reviv, wood, composit, deck, rail, porch, boa...</td>\n",
       "      <td>[unknown]</td>\n",
       "      <td>[unknown]</td>\n",
       "      <td>[behr, premium, textur, deckov, innov, solid, ...</td>\n",
       "      <td>3.00</td>\n",
       "    </tr>\n",
       "    <tr>\n",
       "      <th>3</th>\n",
       "      <td>16</td>\n",
       "      <td>100005</td>\n",
       "      <td>[delta, vero, 1-handl, shower, faucet, trim, k...</td>\n",
       "      <td>[delta, vero, 1-handl, shower, onli, faucet, t...</td>\n",
       "      <td>[delta, vero, 1-handl, shower, faucet, trim, k...</td>\n",
       "      <td>[chrome, chrome]</td>\n",
       "      <td>[includ, trim, kit, rough-in, kit, r10000-unbx...</td>\n",
       "      <td>[unknown]</td>\n",
       "      <td>[unknown]</td>\n",
       "      <td>[updat, bathroom, delta, vero, single-handl, s...</td>\n",
       "      <td>2.33</td>\n",
       "    </tr>\n",
       "    <tr>\n",
       "      <th>4</th>\n",
       "      <td>17</td>\n",
       "      <td>100005</td>\n",
       "      <td>[delta, vero, 1-handl, shower, faucet, trim, k...</td>\n",
       "      <td>[delta, vero, 1-handl, shower, onli, faucet, t...</td>\n",
       "      <td>[delta, vero, 1-handl, shower, faucet, trim, k...</td>\n",
       "      <td>[chrome, chrome]</td>\n",
       "      <td>[includ, trim, kit, rough-in, kit, r10000-unbx...</td>\n",
       "      <td>[unknown]</td>\n",
       "      <td>[unknown]</td>\n",
       "      <td>[updat, bathroom, delta, vero, single-handl, s...</td>\n",
       "      <td>2.67</td>\n",
       "    </tr>\n",
       "    <tr>\n",
       "      <th>5</th>\n",
       "      <td>18</td>\n",
       "      <td>100006</td>\n",
       "      <td>[whirlpool, 1, 9, cu, ft, rang, convect, micro...</td>\n",
       "      <td>[whirlpool, 1, 9, cu, ft, over, the, rang, con...</td>\n",
       "      <td>[whirlpool, 1, 9, cu, ft, rang, convect, micro...</td>\n",
       "      <td>[stainless, steel, stainless]</td>\n",
       "      <td>[spacious, 1, 9, cu, ft, capac, accommod, dinn...</td>\n",
       "      <td>[unknown]</td>\n",
       "      <td>[unknown]</td>\n",
       "      <td>[achiev, delici, result, almost, effortless, w...</td>\n",
       "      <td>3.00</td>\n",
       "    </tr>\n",
       "  </tbody>\n",
       "</table>\n",
       "</div>"
      ],
      "text/plain": [
       "   id  product_uid                                      product_title  \\\n",
       "0   2       100001                [simpson, strong-ti, 12-gaug, angl]   \n",
       "2   9       100002  [behr, premium, textur, deckov, 1-gal, sc-141,...   \n",
       "3  16       100005  [delta, vero, 1-handl, shower, faucet, trim, k...   \n",
       "4  17       100005  [delta, vero, 1-handl, shower, faucet, trim, k...   \n",
       "5  18       100006  [whirlpool, 1, 9, cu, ft, rang, convect, micro...   \n",
       "\n",
       "                                         search_term  \\\n",
       "0                [simpson, strong-ti, 12-gaug, angl]   \n",
       "2  [behr, premium, textur, deckov, 1-gal, sc-141,...   \n",
       "3  [delta, vero, 1-handl, shower, onli, faucet, t...   \n",
       "4  [delta, vero, 1-handl, shower, onli, faucet, t...   \n",
       "5  [whirlpool, 1, 9, cu, ft, over, the, rang, con...   \n",
       "\n",
       "                                               brand  \\\n",
       "0                [simpson, strong-ti, 12-gaug, angl]   \n",
       "2  [behr, premium, textur, deckov, 1-gal, sc-141,...   \n",
       "3  [delta, vero, 1-handl, shower, faucet, trim, k...   \n",
       "4  [delta, vero, 1-handl, shower, faucet, trim, k...   \n",
       "5  [whirlpool, 1, 9, cu, ft, rang, convect, micro...   \n",
       "\n",
       "                           color  \\\n",
       "0                      [unknown]   \n",
       "2          [brown, tan, tugboat]   \n",
       "3               [chrome, chrome]   \n",
       "4               [chrome, chrome]   \n",
       "5  [stainless, steel, stainless]   \n",
       "\n",
       "                                              bullet         material  \\\n",
       "0  [versatil, connector, various, 90, connect, ho...  [galvan, steel]   \n",
       "2  [reviv, wood, composit, deck, rail, porch, boa...        [unknown]   \n",
       "3  [includ, trim, kit, rough-in, kit, r10000-unbx...        [unknown]   \n",
       "4  [includ, trim, kit, rough-in, kit, r10000-unbx...        [unknown]   \n",
       "5  [spacious, 1, 9, cu, ft, capac, accommod, dinn...        [unknown]   \n",
       "\n",
       "    function                                product_description  relevance  \n",
       "0  [unknown]  [angl, make, joint, stronger, also, provid, co...       3.00  \n",
       "2  [unknown]  [behr, premium, textur, deckov, innov, solid, ...       3.00  \n",
       "3  [unknown]  [updat, bathroom, delta, vero, single-handl, s...       2.33  \n",
       "4  [unknown]  [updat, bathroom, delta, vero, single-handl, s...       2.67  \n",
       "5  [unknown]  [achiev, delici, result, almost, effortless, w...       3.00  "
      ]
     },
     "execution_count": 60,
     "metadata": {},
     "output_type": "execute_result"
    }
   ],
   "source": [
    "# all features are already tokenised during stemming\n",
    "# merged_train['color'] = merged_train['color'].apply(lambda x: x.split())\n",
    "merged_train.head()"
   ]
  },
  {
   "cell_type": "markdown",
   "metadata": {},
   "source": [
    "## 5. Feature Engineering"
   ]
  },
  {
   "cell_type": "markdown",
   "metadata": {},
   "source": [
    "#### 5.1. Add length features for search term and product related features.\n",
    "Length of features like description, attributes can be very useful. This is because we have removed stop words and higher the length more are the chances of match with the search term. Thus length feature of these features will help us analyse if the size of description or other attributes will increase the possibility of match or not. Features on which length might be helpful include: search term, product title, product description and bullet. Only these features have significant information to consider length as a feature."
   ]
  },
  {
   "cell_type": "code",
   "execution_count": 65,
   "metadata": {
    "collapsed": true
   },
   "outputs": [],
   "source": [
    "merged_train['len_search_term'] = merged_train['search_term'].map(lambda x: len(x))\n",
    "merged_train['len_product_title'] = merged_train['product_title'].map(lambda x: len(x))\n",
    "merged_train['len_product_description'] = merged_train['product_description'].map(lambda x: len(x))\n",
    "# merged_train['len_brand'] = merged_train['brand'].map(lambda x: len(x))\n",
    "merged_train['len_bullet'] = merged_train['bullet'].map(lambda x: len(x))\n",
    "# merged_train['len_function'] = merged_train['function'].map(lambda x: len(x))\n",
    "\n",
    "\n",
    "merged_test['len_search_term'] = merged_test['search_term'].map(lambda x: len(x))\n",
    "merged_test['len_product_title'] = merged_test['product_title'].map(lambda x: len(x))\n",
    "merged_test['len_product_description'] = merged_test['product_description'].map(lambda x: len(x))\n",
    "# merged_test['len_brand'] = merged_test['brand'].map(lambda x: len(x))\n",
    "merged_test['len_bullet'] = merged_test['bullet'].map(lambda x: len(x))\n",
    "# merged_test['len_function'] = merged_test['function'].map(lambda x: len(x))\n"
   ]
  },
  {
   "cell_type": "code",
   "execution_count": 79,
   "metadata": {},
   "outputs": [
    {
     "data": {
      "text/html": [
       "<div>\n",
       "<table border=\"1\" class=\"dataframe\">\n",
       "  <thead>\n",
       "    <tr style=\"text-align: right;\">\n",
       "      <th></th>\n",
       "      <th>id</th>\n",
       "      <th>product_uid</th>\n",
       "      <th>product_title</th>\n",
       "      <th>search_term</th>\n",
       "      <th>brand</th>\n",
       "      <th>color</th>\n",
       "      <th>bullet</th>\n",
       "      <th>material</th>\n",
       "      <th>function</th>\n",
       "      <th>product_description</th>\n",
       "      <th>len_search_term</th>\n",
       "      <th>len_product_title</th>\n",
       "      <th>len_product_description</th>\n",
       "      <th>len_bullet</th>\n",
       "      <th>match_color</th>\n",
       "    </tr>\n",
       "  </thead>\n",
       "  <tbody>\n",
       "    <tr>\n",
       "      <th>0</th>\n",
       "      <td>1</td>\n",
       "      <td>100001</td>\n",
       "      <td>[simpson, strong-ti, 12-gaug, angl]</td>\n",
       "      <td>[simpson, strong-ti, 12-gaug, angl]</td>\n",
       "      <td>[simpson, strong-ti, 12-gaug, angl]</td>\n",
       "      <td>[unknown]</td>\n",
       "      <td>[versatil, connector, various, 90, connect, ho...</td>\n",
       "      <td>[galvan, steel]</td>\n",
       "      <td>[unknown]</td>\n",
       "      <td>[angl, make, joint, stronger, also, provid, co...</td>\n",
       "      <td>4</td>\n",
       "      <td>4</td>\n",
       "      <td>86</td>\n",
       "      <td>45</td>\n",
       "      <td>0.0</td>\n",
       "    </tr>\n",
       "    <tr>\n",
       "      <th>1</th>\n",
       "      <td>4</td>\n",
       "      <td>100001</td>\n",
       "      <td>[simpson, strong-ti, 12-gaug, angl]</td>\n",
       "      <td>[simpson, strong-ti, 12-gaug, angl]</td>\n",
       "      <td>[simpson, strong-ti, 12-gaug, angl]</td>\n",
       "      <td>[unknown]</td>\n",
       "      <td>[versatil, connector, various, 90, connect, ho...</td>\n",
       "      <td>[galvan, steel]</td>\n",
       "      <td>[unknown]</td>\n",
       "      <td>[angl, make, joint, stronger, also, provid, co...</td>\n",
       "      <td>4</td>\n",
       "      <td>4</td>\n",
       "      <td>86</td>\n",
       "      <td>45</td>\n",
       "      <td>0.0</td>\n",
       "    </tr>\n",
       "    <tr>\n",
       "      <th>2</th>\n",
       "      <td>5</td>\n",
       "      <td>100001</td>\n",
       "      <td>[simpson, strong-ti, 12-gaug, angl]</td>\n",
       "      <td>[simpson, strong-ti, 12-gaug, angl]</td>\n",
       "      <td>[simpson, strong-ti, 12-gaug, angl]</td>\n",
       "      <td>[unknown]</td>\n",
       "      <td>[versatil, connector, various, 90, connect, ho...</td>\n",
       "      <td>[galvan, steel]</td>\n",
       "      <td>[unknown]</td>\n",
       "      <td>[angl, make, joint, stronger, also, provid, co...</td>\n",
       "      <td>4</td>\n",
       "      <td>4</td>\n",
       "      <td>86</td>\n",
       "      <td>45</td>\n",
       "      <td>0.0</td>\n",
       "    </tr>\n",
       "    <tr>\n",
       "      <th>3</th>\n",
       "      <td>6</td>\n",
       "      <td>100001</td>\n",
       "      <td>[simpson, strong-ti, 12-gaug, angl]</td>\n",
       "      <td>[simpson, strong-ti, 12-gaug, angl]</td>\n",
       "      <td>[simpson, strong-ti, 12-gaug, angl]</td>\n",
       "      <td>[unknown]</td>\n",
       "      <td>[versatil, connector, various, 90, connect, ho...</td>\n",
       "      <td>[galvan, steel]</td>\n",
       "      <td>[unknown]</td>\n",
       "      <td>[angl, make, joint, stronger, also, provid, co...</td>\n",
       "      <td>4</td>\n",
       "      <td>4</td>\n",
       "      <td>86</td>\n",
       "      <td>45</td>\n",
       "      <td>0.0</td>\n",
       "    </tr>\n",
       "    <tr>\n",
       "      <th>4</th>\n",
       "      <td>7</td>\n",
       "      <td>100001</td>\n",
       "      <td>[simpson, strong-ti, 12-gaug, angl]</td>\n",
       "      <td>[simpson, strong-ti, 12-gaug, angl]</td>\n",
       "      <td>[simpson, strong-ti, 12-gaug, angl]</td>\n",
       "      <td>[unknown]</td>\n",
       "      <td>[versatil, connector, various, 90, connect, ho...</td>\n",
       "      <td>[galvan, steel]</td>\n",
       "      <td>[unknown]</td>\n",
       "      <td>[angl, make, joint, stronger, also, provid, co...</td>\n",
       "      <td>4</td>\n",
       "      <td>4</td>\n",
       "      <td>86</td>\n",
       "      <td>45</td>\n",
       "      <td>0.0</td>\n",
       "    </tr>\n",
       "  </tbody>\n",
       "</table>\n",
       "</div>"
      ],
      "text/plain": [
       "   id  product_uid                        product_title  \\\n",
       "0   1       100001  [simpson, strong-ti, 12-gaug, angl]   \n",
       "1   4       100001  [simpson, strong-ti, 12-gaug, angl]   \n",
       "2   5       100001  [simpson, strong-ti, 12-gaug, angl]   \n",
       "3   6       100001  [simpson, strong-ti, 12-gaug, angl]   \n",
       "4   7       100001  [simpson, strong-ti, 12-gaug, angl]   \n",
       "\n",
       "                           search_term                                brand  \\\n",
       "0  [simpson, strong-ti, 12-gaug, angl]  [simpson, strong-ti, 12-gaug, angl]   \n",
       "1  [simpson, strong-ti, 12-gaug, angl]  [simpson, strong-ti, 12-gaug, angl]   \n",
       "2  [simpson, strong-ti, 12-gaug, angl]  [simpson, strong-ti, 12-gaug, angl]   \n",
       "3  [simpson, strong-ti, 12-gaug, angl]  [simpson, strong-ti, 12-gaug, angl]   \n",
       "4  [simpson, strong-ti, 12-gaug, angl]  [simpson, strong-ti, 12-gaug, angl]   \n",
       "\n",
       "       color                                             bullet  \\\n",
       "0  [unknown]  [versatil, connector, various, 90, connect, ho...   \n",
       "1  [unknown]  [versatil, connector, various, 90, connect, ho...   \n",
       "2  [unknown]  [versatil, connector, various, 90, connect, ho...   \n",
       "3  [unknown]  [versatil, connector, various, 90, connect, ho...   \n",
       "4  [unknown]  [versatil, connector, various, 90, connect, ho...   \n",
       "\n",
       "          material   function  \\\n",
       "0  [galvan, steel]  [unknown]   \n",
       "1  [galvan, steel]  [unknown]   \n",
       "2  [galvan, steel]  [unknown]   \n",
       "3  [galvan, steel]  [unknown]   \n",
       "4  [galvan, steel]  [unknown]   \n",
       "\n",
       "                                 product_description  len_search_term  \\\n",
       "0  [angl, make, joint, stronger, also, provid, co...                4   \n",
       "1  [angl, make, joint, stronger, also, provid, co...                4   \n",
       "2  [angl, make, joint, stronger, also, provid, co...                4   \n",
       "3  [angl, make, joint, stronger, also, provid, co...                4   \n",
       "4  [angl, make, joint, stronger, also, provid, co...                4   \n",
       "\n",
       "   len_product_title  len_product_description  len_bullet  match_color  \n",
       "0                  4                       86          45          0.0  \n",
       "1                  4                       86          45          0.0  \n",
       "2                  4                       86          45          0.0  \n",
       "3                  4                       86          45          0.0  \n",
       "4                  4                       86          45          0.0  "
      ]
     },
     "execution_count": 79,
     "metadata": {},
     "output_type": "execute_result"
    }
   ],
   "source": [
    "# # meged_train = merged_train[['']]\n",
    "# drop_col = ['len_brand', 'len_function']\n",
    "# # merged_train = merged_train.drop(drop_col, axis=1)\n",
    "# merged_test = merged_test.drop(drop_col, axis=1)\n",
    "# # print merged_train.info()\n",
    "# merged_test.head()"
   ]
  },
  {
   "cell_type": "markdown",
   "metadata": {},
   "source": [
    "#### 5.2. Add boolean feature for color match\n",
    "Color match in itself can not be a important feature because we need to match the product first. But once the product is matched, color match of the product with the color provided in query tells us if the results retrieved are relevant or not. So color is very helpful feature to decide relevancy once we find some overlap of search term with our data. This feature will help in training when used with features like overlap."
   ]
  },
  {
   "cell_type": "code",
   "execution_count": 63,
   "metadata": {
    "collapsed": true
   },
   "outputs": [],
   "source": [
    "def color_match(st, colors):\n",
    "    for color in st:\n",
    "        if color in colors:\n",
    "            return True\n",
    "    return False\n",
    "\n",
    "merged_train['match_color'] = merged_train.apply(lambda x: color_match(x['search_term'], x['color']), axis=1).astype(np.float)\n",
    "merged_test['match_color'] = merged_test.apply(lambda x: color_match(x['search_term'], x['color']), axis=1).astype(np.float)"
   ]
  },
  {
   "cell_type": "markdown",
   "metadata": {},
   "source": [
    "#### 5.3. Create features based on Edit distance\n",
    "\n",
    "Edit distance tell is how well the a term matches with other term. Edit distance is very commonly used metric to perform similarity check. Edit distance was used as an important feature to decide the the similarity of search term with features like description, title, attributes, etc. My assumption is lesser the value of edit distance higher are the chance of results to be relevant.\n",
    "This feature did not provide much useful insight while learning and took much time for generation still I used it in final features as it provides some useful information."
   ]
  },
  {
   "cell_type": "code",
   "execution_count": 82,
   "metadata": {
    "collapsed": true
   },
   "outputs": [],
   "source": [
    "from nltk.metrics import edit_distance\n",
    "\n",
    "# calculate min edit distance of product title product description with search terms\n",
    "\n",
    "# find min edit distance\n",
    "def get_edit_distance(row, col):\n",
    "    dists = [min([edit_distance(w, x) for x in row[col]]) for w in row['search_term']]\n",
    "    return (min(dists), sum(dists))\n",
    "\n",
    "\n",
    "# find edit distance of product title\n",
    "merged_train['edit_dist_product_title'] = merged_train.apply(lambda x: get_edit_distance(x, 'product_title'), axis=1)\n",
    "merged_train['edit_dist_product_title_min'] = merged_train['edit_dist_product_title'].map(lambda x: x[0])\n",
    "merged_train['edit_dist_product_title_avg'] = merged_train['edit_dist_product_title'].map(lambda x: x[1]) / merged_train['len_search_term']                                                             \n",
    "\n",
    "merged_test['edit_dist_product_title'] = merged_test.apply(lambda x: get_edit_distance(x, 'product_title'), axis=1)\n",
    "merged_test['edit_dist_product_title_min'] = merged_test['edit_dist_product_title'].map(lambda x: x[0])\n",
    "merged_test['edit_dist_product_title_avg'] = merged_test['edit_dist_product_title'].map(lambda x: x[1]) / merged_test['len_search_term']                                                             \n",
    "\n",
    "\n",
    "# find edit distance of product description\n",
    "# merged_train['edit_dist_product_description'] = merged_train.apply(lambda x: get_edit_distance(x, 'product_description'), axis=1)\n",
    "# merged_train['edit_dist_product_description_min'] = merged_train['edit_dist_product_description'].map(lambda x: x[0])\n",
    "# merged_train['edit_dist_product_description_avg'] = merged_train['edit_dist_product_title'].map(lambda x: x[1]) / merged_train['len_search_term']                                                             \n",
    "\n",
    "# merged_test['edit_dist_product_description'] = merged_test.apply(lambda x: get_edit_distance(x, 'product_description'), axis=1)\n",
    "# merged_test['edit_dist_product_description_min'] = merged_test['edit_dist_product_description'].map(lambda x: x[0])\n",
    "# merged_test['edit_dist_product_description_avg'] = merged_test['edit_dist_product_description'].map(lambda x: x[1]) / merged_test['len_search_term']                                                             \n",
    "\n",
    "merged_train.drop(['edit_dist_product_title'], axis=1, inplace=True)\n",
    "merged_test.drop(['edit_dist_product_title'], axis=1, inplace=True)\n"
   ]
  },
  {
   "cell_type": "code",
   "execution_count": 83,
   "metadata": {},
   "outputs": [
    {
     "data": {
      "text/html": [
       "<div>\n",
       "<table border=\"1\" class=\"dataframe\">\n",
       "  <thead>\n",
       "    <tr style=\"text-align: right;\">\n",
       "      <th></th>\n",
       "      <th>id</th>\n",
       "      <th>product_uid</th>\n",
       "      <th>product_title</th>\n",
       "      <th>search_term</th>\n",
       "      <th>brand</th>\n",
       "      <th>color</th>\n",
       "      <th>bullet</th>\n",
       "      <th>material</th>\n",
       "      <th>function</th>\n",
       "      <th>product_description</th>\n",
       "      <th>relevance</th>\n",
       "      <th>len_search_term</th>\n",
       "      <th>len_product_title</th>\n",
       "      <th>len_product_description</th>\n",
       "      <th>len_bullet</th>\n",
       "      <th>match_color</th>\n",
       "      <th>edit_dist_product_title_min</th>\n",
       "      <th>edit_dist_product_title_avg</th>\n",
       "    </tr>\n",
       "  </thead>\n",
       "  <tbody>\n",
       "    <tr>\n",
       "      <th>0</th>\n",
       "      <td>2</td>\n",
       "      <td>100001</td>\n",
       "      <td>[simpson, strong-ti, 12-gaug, angl]</td>\n",
       "      <td>[simpson, strong-ti, 12-gaug, angl]</td>\n",
       "      <td>[simpson, strong-ti, 12-gaug, angl]</td>\n",
       "      <td>[unknown]</td>\n",
       "      <td>[versatil, connector, various, 90, connect, ho...</td>\n",
       "      <td>[galvan, steel]</td>\n",
       "      <td>[unknown]</td>\n",
       "      <td>[angl, make, joint, stronger, also, provid, co...</td>\n",
       "      <td>3.00</td>\n",
       "      <td>4</td>\n",
       "      <td>4</td>\n",
       "      <td>86</td>\n",
       "      <td>45</td>\n",
       "      <td>0.0</td>\n",
       "      <td>0</td>\n",
       "      <td>0.000000</td>\n",
       "    </tr>\n",
       "    <tr>\n",
       "      <th>2</th>\n",
       "      <td>9</td>\n",
       "      <td>100002</td>\n",
       "      <td>[behr, premium, textur, deckov, 1-gal, sc-141,...</td>\n",
       "      <td>[behr, premium, textur, deckov, 1-gal, sc-141,...</td>\n",
       "      <td>[behr, premium, textur, deckov, 1-gal, sc-141,...</td>\n",
       "      <td>[brown, tan, tugboat]</td>\n",
       "      <td>[reviv, wood, composit, deck, rail, porch, boa...</td>\n",
       "      <td>[unknown]</td>\n",
       "      <td>[unknown]</td>\n",
       "      <td>[behr, premium, textur, deckov, innov, solid, ...</td>\n",
       "      <td>3.00</td>\n",
       "      <td>11</td>\n",
       "      <td>10</td>\n",
       "      <td>120</td>\n",
       "      <td>80</td>\n",
       "      <td>1.0</td>\n",
       "      <td>0</td>\n",
       "      <td>0.272727</td>\n",
       "    </tr>\n",
       "    <tr>\n",
       "      <th>3</th>\n",
       "      <td>16</td>\n",
       "      <td>100005</td>\n",
       "      <td>[delta, vero, 1-handl, shower, faucet, trim, k...</td>\n",
       "      <td>[delta, vero, 1-handl, shower, onli, faucet, t...</td>\n",
       "      <td>[delta, vero, 1-handl, shower, faucet, trim, k...</td>\n",
       "      <td>[chrome, chrome]</td>\n",
       "      <td>[includ, trim, kit, rough-in, kit, r10000-unbx...</td>\n",
       "      <td>[unknown]</td>\n",
       "      <td>[unknown]</td>\n",
       "      <td>[updat, bathroom, delta, vero, single-handl, s...</td>\n",
       "      <td>2.33</td>\n",
       "      <td>13</td>\n",
       "      <td>10</td>\n",
       "      <td>68</td>\n",
       "      <td>38</td>\n",
       "      <td>1.0</td>\n",
       "      <td>0</td>\n",
       "      <td>0.538462</td>\n",
       "    </tr>\n",
       "    <tr>\n",
       "      <th>4</th>\n",
       "      <td>17</td>\n",
       "      <td>100005</td>\n",
       "      <td>[delta, vero, 1-handl, shower, faucet, trim, k...</td>\n",
       "      <td>[delta, vero, 1-handl, shower, onli, faucet, t...</td>\n",
       "      <td>[delta, vero, 1-handl, shower, faucet, trim, k...</td>\n",
       "      <td>[chrome, chrome]</td>\n",
       "      <td>[includ, trim, kit, rough-in, kit, r10000-unbx...</td>\n",
       "      <td>[unknown]</td>\n",
       "      <td>[unknown]</td>\n",
       "      <td>[updat, bathroom, delta, vero, single-handl, s...</td>\n",
       "      <td>2.67</td>\n",
       "      <td>13</td>\n",
       "      <td>10</td>\n",
       "      <td>68</td>\n",
       "      <td>38</td>\n",
       "      <td>1.0</td>\n",
       "      <td>0</td>\n",
       "      <td>0.538462</td>\n",
       "    </tr>\n",
       "    <tr>\n",
       "      <th>5</th>\n",
       "      <td>18</td>\n",
       "      <td>100006</td>\n",
       "      <td>[whirlpool, 1, 9, cu, ft, rang, convect, micro...</td>\n",
       "      <td>[whirlpool, 1, 9, cu, ft, over, the, rang, con...</td>\n",
       "      <td>[whirlpool, 1, 9, cu, ft, rang, convect, micro...</td>\n",
       "      <td>[stainless, steel, stainless]</td>\n",
       "      <td>[spacious, 1, 9, cu, ft, capac, accommod, dinn...</td>\n",
       "      <td>[unknown]</td>\n",
       "      <td>[unknown]</td>\n",
       "      <td>[achiev, delici, result, almost, effortless, w...</td>\n",
       "      <td>3.00</td>\n",
       "      <td>16</td>\n",
       "      <td>12</td>\n",
       "      <td>316</td>\n",
       "      <td>245</td>\n",
       "      <td>1.0</td>\n",
       "      <td>0</td>\n",
       "      <td>0.750000</td>\n",
       "    </tr>\n",
       "  </tbody>\n",
       "</table>\n",
       "</div>"
      ],
      "text/plain": [
       "   id  product_uid                                      product_title  \\\n",
       "0   2       100001                [simpson, strong-ti, 12-gaug, angl]   \n",
       "2   9       100002  [behr, premium, textur, deckov, 1-gal, sc-141,...   \n",
       "3  16       100005  [delta, vero, 1-handl, shower, faucet, trim, k...   \n",
       "4  17       100005  [delta, vero, 1-handl, shower, faucet, trim, k...   \n",
       "5  18       100006  [whirlpool, 1, 9, cu, ft, rang, convect, micro...   \n",
       "\n",
       "                                         search_term  \\\n",
       "0                [simpson, strong-ti, 12-gaug, angl]   \n",
       "2  [behr, premium, textur, deckov, 1-gal, sc-141,...   \n",
       "3  [delta, vero, 1-handl, shower, onli, faucet, t...   \n",
       "4  [delta, vero, 1-handl, shower, onli, faucet, t...   \n",
       "5  [whirlpool, 1, 9, cu, ft, over, the, rang, con...   \n",
       "\n",
       "                                               brand  \\\n",
       "0                [simpson, strong-ti, 12-gaug, angl]   \n",
       "2  [behr, premium, textur, deckov, 1-gal, sc-141,...   \n",
       "3  [delta, vero, 1-handl, shower, faucet, trim, k...   \n",
       "4  [delta, vero, 1-handl, shower, faucet, trim, k...   \n",
       "5  [whirlpool, 1, 9, cu, ft, rang, convect, micro...   \n",
       "\n",
       "                           color  \\\n",
       "0                      [unknown]   \n",
       "2          [brown, tan, tugboat]   \n",
       "3               [chrome, chrome]   \n",
       "4               [chrome, chrome]   \n",
       "5  [stainless, steel, stainless]   \n",
       "\n",
       "                                              bullet         material  \\\n",
       "0  [versatil, connector, various, 90, connect, ho...  [galvan, steel]   \n",
       "2  [reviv, wood, composit, deck, rail, porch, boa...        [unknown]   \n",
       "3  [includ, trim, kit, rough-in, kit, r10000-unbx...        [unknown]   \n",
       "4  [includ, trim, kit, rough-in, kit, r10000-unbx...        [unknown]   \n",
       "5  [spacious, 1, 9, cu, ft, capac, accommod, dinn...        [unknown]   \n",
       "\n",
       "    function                                product_description  relevance  \\\n",
       "0  [unknown]  [angl, make, joint, stronger, also, provid, co...       3.00   \n",
       "2  [unknown]  [behr, premium, textur, deckov, innov, solid, ...       3.00   \n",
       "3  [unknown]  [updat, bathroom, delta, vero, single-handl, s...       2.33   \n",
       "4  [unknown]  [updat, bathroom, delta, vero, single-handl, s...       2.67   \n",
       "5  [unknown]  [achiev, delici, result, almost, effortless, w...       3.00   \n",
       "\n",
       "   len_search_term  len_product_title  len_product_description  len_bullet  \\\n",
       "0                4                  4                       86          45   \n",
       "2               11                 10                      120          80   \n",
       "3               13                 10                       68          38   \n",
       "4               13                 10                       68          38   \n",
       "5               16                 12                      316         245   \n",
       "\n",
       "   match_color  edit_dist_product_title_min  edit_dist_product_title_avg  \n",
       "0          0.0                            0                     0.000000  \n",
       "2          1.0                            0                     0.272727  \n",
       "3          1.0                            0                     0.538462  \n",
       "4          1.0                            0                     0.538462  \n",
       "5          1.0                            0                     0.750000  "
      ]
     },
     "execution_count": 83,
     "metadata": {},
     "output_type": "execute_result"
    }
   ],
   "source": [
    "merged_train.head()\n",
    "# print merged_test.info()"
   ]
  },
  {
   "cell_type": "code",
   "execution_count": 84,
   "metadata": {
    "collapsed": true
   },
   "outputs": [],
   "source": [
    "# # store train and test updated file\n",
    "merged_train.to_pickle('edit_dis_train')\n",
    "merged_test.to_pickle('edit_dis_test')"
   ]
  },
  {
   "cell_type": "code",
   "execution_count": 85,
   "metadata": {
    "collapsed": true
   },
   "outputs": [],
   "source": [
    "# # read train and test file from csv\n",
    "\n",
    "merged_train = pd.read_pickle('edit_dis_train')\n",
    "merged_test = pd.read_pickle('edit_dis_test')\n",
    "\n",
    "# print merged_train.info()\n",
    "# print merged_test.info()"
   ]
  },
  {
   "cell_type": "code",
   "execution_count": 87,
   "metadata": {},
   "outputs": [
    {
     "data": {
      "text/html": [
       "<div>\n",
       "<table border=\"1\" class=\"dataframe\">\n",
       "  <thead>\n",
       "    <tr style=\"text-align: right;\">\n",
       "      <th></th>\n",
       "      <th>id</th>\n",
       "      <th>product_uid</th>\n",
       "      <th>product_title</th>\n",
       "      <th>search_term</th>\n",
       "      <th>brand</th>\n",
       "      <th>color</th>\n",
       "      <th>bullet</th>\n",
       "      <th>material</th>\n",
       "      <th>function</th>\n",
       "      <th>product_description</th>\n",
       "      <th>relevance</th>\n",
       "      <th>len_search_term</th>\n",
       "      <th>len_product_title</th>\n",
       "      <th>len_product_description</th>\n",
       "      <th>len_bullet</th>\n",
       "      <th>match_color</th>\n",
       "      <th>edit_dist_product_title_min</th>\n",
       "      <th>edit_dist_product_title_avg</th>\n",
       "    </tr>\n",
       "  </thead>\n",
       "  <tbody>\n",
       "    <tr>\n",
       "      <th>0</th>\n",
       "      <td>2</td>\n",
       "      <td>100001</td>\n",
       "      <td>[simpson, strong-ti, 12-gaug, angl]</td>\n",
       "      <td>[simpson, strong-ti, 12-gaug, angl]</td>\n",
       "      <td>[simpson, strong-ti, 12-gaug, angl]</td>\n",
       "      <td>[unknown]</td>\n",
       "      <td>[versatil, connector, various, 90, connect, ho...</td>\n",
       "      <td>[galvan, steel]</td>\n",
       "      <td>[unknown]</td>\n",
       "      <td>[angl, make, joint, stronger, also, provid, co...</td>\n",
       "      <td>3.0</td>\n",
       "      <td>4</td>\n",
       "      <td>4</td>\n",
       "      <td>86</td>\n",
       "      <td>45</td>\n",
       "      <td>0.0</td>\n",
       "      <td>0</td>\n",
       "      <td>0.000000</td>\n",
       "    </tr>\n",
       "    <tr>\n",
       "      <th>2</th>\n",
       "      <td>9</td>\n",
       "      <td>100002</td>\n",
       "      <td>[behr, premium, textur, deckov, 1-gal, sc-141,...</td>\n",
       "      <td>[behr, premium, textur, deckov, 1-gal, sc-141,...</td>\n",
       "      <td>[behr, premium, textur, deckov, 1-gal, sc-141,...</td>\n",
       "      <td>[brown, tan, tugboat]</td>\n",
       "      <td>[reviv, wood, composit, deck, rail, porch, boa...</td>\n",
       "      <td>[unknown]</td>\n",
       "      <td>[unknown]</td>\n",
       "      <td>[behr, premium, textur, deckov, innov, solid, ...</td>\n",
       "      <td>3.0</td>\n",
       "      <td>11</td>\n",
       "      <td>10</td>\n",
       "      <td>120</td>\n",
       "      <td>80</td>\n",
       "      <td>1.0</td>\n",
       "      <td>0</td>\n",
       "      <td>0.272727</td>\n",
       "    </tr>\n",
       "  </tbody>\n",
       "</table>\n",
       "</div>"
      ],
      "text/plain": [
       "   id  product_uid                                      product_title  \\\n",
       "0   2       100001                [simpson, strong-ti, 12-gaug, angl]   \n",
       "2   9       100002  [behr, premium, textur, deckov, 1-gal, sc-141,...   \n",
       "\n",
       "                                         search_term  \\\n",
       "0                [simpson, strong-ti, 12-gaug, angl]   \n",
       "2  [behr, premium, textur, deckov, 1-gal, sc-141,...   \n",
       "\n",
       "                                               brand                  color  \\\n",
       "0                [simpson, strong-ti, 12-gaug, angl]              [unknown]   \n",
       "2  [behr, premium, textur, deckov, 1-gal, sc-141,...  [brown, tan, tugboat]   \n",
       "\n",
       "                                              bullet         material  \\\n",
       "0  [versatil, connector, various, 90, connect, ho...  [galvan, steel]   \n",
       "2  [reviv, wood, composit, deck, rail, porch, boa...        [unknown]   \n",
       "\n",
       "    function                                product_description  relevance  \\\n",
       "0  [unknown]  [angl, make, joint, stronger, also, provid, co...        3.0   \n",
       "2  [unknown]  [behr, premium, textur, deckov, innov, solid, ...        3.0   \n",
       "\n",
       "   len_search_term  len_product_title  len_product_description  len_bullet  \\\n",
       "0                4                  4                       86          45   \n",
       "2               11                 10                      120          80   \n",
       "\n",
       "   match_color  edit_dist_product_title_min  edit_dist_product_title_avg  \n",
       "0          0.0                            0                     0.000000  \n",
       "2          1.0                            0                     0.272727  "
      ]
     },
     "execution_count": 87,
     "metadata": {},
     "output_type": "execute_result"
    }
   ],
   "source": [
    "merged_train.head(2)\n",
    "# print merged_test.head(2)"
   ]
  },
  {
   "cell_type": "markdown",
   "metadata": {},
   "source": [
    "#### 5.4. Create boolean features for a match in search term \n",
    "I used a flag feature to store 1/0 value if any term in search query matches any term in a particular feature. Search queries are generally short in size so the words used to represent information need of the user are highly specific. If any of these terms match with the meta information we have about the product, then the chance of product being relevant increases. "
   ]
  },
  {
   "cell_type": "code",
   "execution_count": 88,
   "metadata": {
    "collapsed": true
   },
   "outputs": [],
   "source": [
    "merged_train['flag_st_pt'] = merged_train.apply(lambda x: int(x['search_term'] in x['product_title']), axis=1)\n",
    "merged_train['flag_st_pd'] = merged_train.apply(lambda x: int(x['search_term'] in x['product_description']), axis=1)\n",
    "merged_train['flag_st_br'] = merged_train.apply(lambda x: int(x['search_term'] in x['brand']), axis=1)\n",
    "merged_train['flag_st_bl'] = merged_train.apply(lambda x: int(x['search_term'] in x['bullet']), axis=1)\n",
    "merged_train['flag_st_mt'] = merged_train.apply(lambda x: int(x['search_term'] in x['material']), axis=1)\n",
    "merged_train['flag_st_fn'] = merged_train.apply(lambda x: int(x['search_term'] in x['function']), axis=1)\n",
    "\n",
    "merged_test['flag_st_pt'] = merged_test.apply(lambda x: int(x['search_term'] in x['product_title']), axis=1)\n",
    "merged_test['flag_st_pd'] = merged_test.apply(lambda x: int(x['search_term'] in x['product_description']), axis=1)\n",
    "merged_test['flag_st_br'] = merged_test.apply(lambda x: int(x['search_term'] in x['brand']), axis=1)\n",
    "merged_test['flag_st_bl'] = merged_test.apply(lambda x: int(x['search_term'] in x['bullet']), axis=1)\n",
    "merged_test['flag_st_mt'] = merged_test.apply(lambda x: int(x['search_term'] in x['material']), axis=1)\n",
    "merged_test['flag_st_fn'] = merged_test.apply(lambda x: int(x['search_term'] in x['function']), axis=1)"
   ]
  },
  {
   "cell_type": "markdown",
   "metadata": {},
   "source": [
    "#### 5.5. Create features to find overlap of search terms\n",
    "Another feature that can provide insight about the relevance is how much the information provided in meta data is overlapping/matching with the search terms. This feature is somewhat similar to the bollean feature but here instead of storing boolean values we are taking into consideration the count of terms that matched."
   ]
  },
  {
   "cell_type": "code",
   "execution_count": 89,
   "metadata": {
    "collapsed": true
   },
   "outputs": [],
   "source": [
    "merged_train['num_st_pt'] = merged_train.apply(lambda x: len(set(x['search_term']).intersection(set(x['product_title']))), axis=1)\n",
    "merged_train['num_st_pd'] = merged_train.apply(lambda x: len(set(x['search_term']).intersection(set(x['product_description']))), axis=1)\n",
    "merged_train['num_st_br'] = merged_train.apply(lambda x: len(set(x['search_term']).intersection(set(x['brand']))), axis=1)\n",
    "merged_train['num_st_bl'] = merged_train.apply(lambda x: len(set(x['search_term']).intersection(set(x['bullet']))), axis=1)\n",
    "merged_train['num_st_mt'] = merged_train.apply(lambda x: len(set(x['search_term']).intersection(set(x['material']))), axis=1)\n",
    "merged_train['num_st_fn'] = merged_train.apply(lambda x: len(set(x['search_term']).intersection(set(x['function']))), axis=1)\n",
    "\n",
    "merged_test['num_st_pt'] = merged_test.apply(lambda x: len(set(x['search_term']).intersection(set(x['product_title']))), axis=1)\n",
    "merged_test['num_st_pd'] = merged_test.apply(lambda x: len(set(x['search_term']).intersection(set(x['product_description']))), axis=1)\n",
    "merged_test['num_st_br'] = merged_test.apply(lambda x: len(set(x['search_term']).intersection(set(x['brand']))), axis=1)\n",
    "merged_test['num_st_bl'] = merged_test.apply(lambda x: len(set(x['search_term']).intersection(set(x['bullet']))), axis=1)\n",
    "merged_test['num_st_mt'] = merged_test.apply(lambda x: len(set(x['search_term']).intersection(set(x['material']))), axis=1)\n",
    "merged_test['num_st_fn'] = merged_test.apply(lambda x: len(set(x['search_term']).intersection(set(x['function']))), axis=1)\n",
    "\n"
   ]
  },
  {
   "cell_type": "code",
   "execution_count": 90,
   "metadata": {},
   "outputs": [
    {
     "data": {
      "text/html": [
       "<div>\n",
       "<table border=\"1\" class=\"dataframe\">\n",
       "  <thead>\n",
       "    <tr style=\"text-align: right;\">\n",
       "      <th></th>\n",
       "      <th>id</th>\n",
       "      <th>product_uid</th>\n",
       "      <th>product_title</th>\n",
       "      <th>search_term</th>\n",
       "      <th>brand</th>\n",
       "      <th>color</th>\n",
       "      <th>bullet</th>\n",
       "      <th>material</th>\n",
       "      <th>function</th>\n",
       "      <th>product_description</th>\n",
       "      <th>...</th>\n",
       "      <th>flag_st_br</th>\n",
       "      <th>flag_st_bl</th>\n",
       "      <th>flag_st_mt</th>\n",
       "      <th>flag_st_fn</th>\n",
       "      <th>num_st_pt</th>\n",
       "      <th>num_st_pd</th>\n",
       "      <th>num_st_br</th>\n",
       "      <th>num_st_bl</th>\n",
       "      <th>num_st_mt</th>\n",
       "      <th>num_st_fn</th>\n",
       "    </tr>\n",
       "  </thead>\n",
       "  <tbody>\n",
       "    <tr>\n",
       "      <th>0</th>\n",
       "      <td>2</td>\n",
       "      <td>100001</td>\n",
       "      <td>[simpson, strong-ti, 12-gaug, angl]</td>\n",
       "      <td>[simpson, strong-ti, 12-gaug, angl]</td>\n",
       "      <td>[simpson, strong-ti, 12-gaug, angl]</td>\n",
       "      <td>[unknown]</td>\n",
       "      <td>[versatil, connector, various, 90, connect, ho...</td>\n",
       "      <td>[galvan, steel]</td>\n",
       "      <td>[unknown]</td>\n",
       "      <td>[angl, make, joint, stronger, also, provid, co...</td>\n",
       "      <td>...</td>\n",
       "      <td>0</td>\n",
       "      <td>0</td>\n",
       "      <td>0</td>\n",
       "      <td>0</td>\n",
       "      <td>4</td>\n",
       "      <td>4</td>\n",
       "      <td>4</td>\n",
       "      <td>2</td>\n",
       "      <td>0</td>\n",
       "      <td>0</td>\n",
       "    </tr>\n",
       "    <tr>\n",
       "      <th>2</th>\n",
       "      <td>9</td>\n",
       "      <td>100002</td>\n",
       "      <td>[behr, premium, textur, deckov, 1-gal, sc-141,...</td>\n",
       "      <td>[behr, premium, textur, deckov, 1-gal, sc-141,...</td>\n",
       "      <td>[behr, premium, textur, deckov, 1-gal, sc-141,...</td>\n",
       "      <td>[brown, tan, tugboat]</td>\n",
       "      <td>[reviv, wood, composit, deck, rail, porch, boa...</td>\n",
       "      <td>[unknown]</td>\n",
       "      <td>[unknown]</td>\n",
       "      <td>[behr, premium, textur, deckov, innov, solid, ...</td>\n",
       "      <td>...</td>\n",
       "      <td>0</td>\n",
       "      <td>0</td>\n",
       "      <td>0</td>\n",
       "      <td>0</td>\n",
       "      <td>10</td>\n",
       "      <td>7</td>\n",
       "      <td>10</td>\n",
       "      <td>5</td>\n",
       "      <td>0</td>\n",
       "      <td>0</td>\n",
       "    </tr>\n",
       "  </tbody>\n",
       "</table>\n",
       "<p>2 rows × 30 columns</p>\n",
       "</div>"
      ],
      "text/plain": [
       "   id  product_uid                                      product_title  \\\n",
       "0   2       100001                [simpson, strong-ti, 12-gaug, angl]   \n",
       "2   9       100002  [behr, premium, textur, deckov, 1-gal, sc-141,...   \n",
       "\n",
       "                                         search_term  \\\n",
       "0                [simpson, strong-ti, 12-gaug, angl]   \n",
       "2  [behr, premium, textur, deckov, 1-gal, sc-141,...   \n",
       "\n",
       "                                               brand                  color  \\\n",
       "0                [simpson, strong-ti, 12-gaug, angl]              [unknown]   \n",
       "2  [behr, premium, textur, deckov, 1-gal, sc-141,...  [brown, tan, tugboat]   \n",
       "\n",
       "                                              bullet         material  \\\n",
       "0  [versatil, connector, various, 90, connect, ho...  [galvan, steel]   \n",
       "2  [reviv, wood, composit, deck, rail, porch, boa...        [unknown]   \n",
       "\n",
       "    function                                product_description    ...      \\\n",
       "0  [unknown]  [angl, make, joint, stronger, also, provid, co...    ...       \n",
       "2  [unknown]  [behr, premium, textur, deckov, innov, solid, ...    ...       \n",
       "\n",
       "   flag_st_br  flag_st_bl  flag_st_mt  flag_st_fn  num_st_pt  num_st_pd  \\\n",
       "0           0           0           0           0          4          4   \n",
       "2           0           0           0           0         10          7   \n",
       "\n",
       "   num_st_br  num_st_bl  num_st_mt  num_st_fn  \n",
       "0          4          2          0          0  \n",
       "2         10          5          0          0  \n",
       "\n",
       "[2 rows x 30 columns]"
      ]
     },
     "execution_count": 90,
     "metadata": {},
     "output_type": "execute_result"
    }
   ],
   "source": [
    "merged_train.head(2)"
   ]
  },
  {
   "cell_type": "markdown",
   "metadata": {},
   "source": [
    "#### 5.6. Create features for search term match ratio\n",
    "\n",
    "This is another feature that considers the numbers of terms matched between search term feature and other features. In this feature we consider the proportion of search term that matches with our features. I have considered multiple features based on similarity of term with some differences because in this task user will generally use smaller queries to search for products and count of matching terms is the most important feature to calculate relevancy of results produced."
   ]
  },
  {
   "cell_type": "code",
   "execution_count": 91,
   "metadata": {
    "collapsed": true
   },
   "outputs": [],
   "source": [
    "merged_train['ratio_st_pt'] = merged_train.apply(lambda x: x['num_st_pt'] / float(x['len_search_term']), axis=1)\n",
    "merged_train['ratio_st_pd'] = merged_train.apply(lambda x: x['num_st_pd'] / float(x['len_search_term']), axis=1)\n",
    "merged_train['ratio_st_br'] = merged_train.apply(lambda x: x['num_st_br'] / float(x['len_search_term']), axis=1)\n",
    "merged_train['ratio_st_bl'] = merged_train.apply(lambda x: x['num_st_bl'] / float(x['len_search_term']), axis=1)\n",
    "merged_train['ratio_st_mt'] = merged_train.apply(lambda x: x['num_st_mt'] / float(x['len_search_term']), axis=1)\n",
    "merged_train['ratio_st_fn'] = merged_train.apply(lambda x: x['num_st_fn'] / float(x['len_search_term']), axis=1)\n",
    "\n",
    "merged_test['ratio_st_pt'] = merged_test.apply(lambda x: x['num_st_pt'] / float(x['len_search_term']), axis=1)\n",
    "merged_test['ratio_st_pd'] = merged_test.apply(lambda x: x['num_st_pd'] / float(x['len_search_term']), axis=1)\n",
    "merged_test['ratio_st_br'] = merged_test.apply(lambda x: x['num_st_br'] / float(x['len_search_term']), axis=1)\n",
    "merged_test['ratio_st_bl'] = merged_test.apply(lambda x: x['num_st_bl'] / float(x['len_search_term']), axis=1)\n",
    "merged_test['ratio_st_mt'] = merged_test.apply(lambda x: x['num_st_mt'] / float(x['len_search_term']), axis=1)\n",
    "merged_test['ratio_st_fn'] = merged_test.apply(lambda x: x['num_st_fn'] / float(x['len_search_term']), axis=1)\n"
   ]
  },
  {
   "cell_type": "code",
   "execution_count": 92,
   "metadata": {
    "collapsed": true
   },
   "outputs": [],
   "source": [
    "merged_train.to_pickle('ratio_train')\n",
    "merged_test.to_pickle('ratio_test')"
   ]
  },
  {
   "cell_type": "code",
   "execution_count": 93,
   "metadata": {
    "collapsed": true
   },
   "outputs": [],
   "source": [
    "# join the list created \n",
    "# For the rest of the features I used I will be considering the data as a single string first \n",
    "# in order to perform my reformations on the features.\n",
    "merged_train['product_title'] = merged_train['product_title'].apply(' '.join)\n",
    "merged_train['product_description'] = merged_train['product_description'].apply(' '.join)\n",
    "merged_train['search_term'] = merged_train['search_term'].apply(' '.join)\n",
    "merged_train['bullet'] = merged_train['bullet'].apply(' '.join)\n",
    "merged_train['brand'] = merged_train['brand'].apply(' '.join)\n",
    "merged_train['material'] = merged_train['material'].apply(' '.join)\n",
    "merged_train['function'] = merged_train['function'].apply(' '.join)\n",
    "\n",
    "merged_test['product_title'] = merged_test['product_title'].apply(' '.join)\n",
    "merged_test['product_description'] = merged_test['product_description'].apply(' '.join)\n",
    "merged_test['search_term'] = merged_test['search_term'].apply(' '.join)\n",
    "merged_test['bullet'] = merged_test['bullet'].apply(' '.join)\n",
    "merged_test['brand'] = merged_test['brand'].apply(' '.join)\n",
    "merged_test['material'] = merged_test['material'].apply(' '.join)\n",
    "merged_test['function'] = merged_test['function'].apply(' '.join)"
   ]
  },
  {
   "cell_type": "code",
   "execution_count": 95,
   "metadata": {},
   "outputs": [
    {
     "data": {
      "text/html": [
       "<div>\n",
       "<table border=\"1\" class=\"dataframe\">\n",
       "  <thead>\n",
       "    <tr style=\"text-align: right;\">\n",
       "      <th></th>\n",
       "      <th>id</th>\n",
       "      <th>product_uid</th>\n",
       "      <th>product_title</th>\n",
       "      <th>search_term</th>\n",
       "      <th>brand</th>\n",
       "      <th>color</th>\n",
       "      <th>bullet</th>\n",
       "      <th>material</th>\n",
       "      <th>function</th>\n",
       "      <th>product_description</th>\n",
       "      <th>...</th>\n",
       "      <th>num_st_br</th>\n",
       "      <th>num_st_bl</th>\n",
       "      <th>num_st_mt</th>\n",
       "      <th>num_st_fn</th>\n",
       "      <th>ratio_st_pt</th>\n",
       "      <th>ratio_st_pd</th>\n",
       "      <th>ratio_st_br</th>\n",
       "      <th>ratio_st_bl</th>\n",
       "      <th>ratio_st_mt</th>\n",
       "      <th>ratio_st_fn</th>\n",
       "    </tr>\n",
       "  </thead>\n",
       "  <tbody>\n",
       "    <tr>\n",
       "      <th>0</th>\n",
       "      <td>1</td>\n",
       "      <td>100001</td>\n",
       "      <td>simpson strong-ti 12-gaug angl</td>\n",
       "      <td>simpson strong-ti 12-gaug angl</td>\n",
       "      <td>simpson strong-ti 12-gaug angl</td>\n",
       "      <td>[unknown]</td>\n",
       "      <td>versatil connector various 90 connect home rep...</td>\n",
       "      <td>galvan steel</td>\n",
       "      <td>unknown</td>\n",
       "      <td>angl make joint stronger also provid consist s...</td>\n",
       "      <td>...</td>\n",
       "      <td>4</td>\n",
       "      <td>2</td>\n",
       "      <td>0</td>\n",
       "      <td>0</td>\n",
       "      <td>1.0</td>\n",
       "      <td>1.0</td>\n",
       "      <td>1.0</td>\n",
       "      <td>0.5</td>\n",
       "      <td>0.0</td>\n",
       "      <td>0.0</td>\n",
       "    </tr>\n",
       "    <tr>\n",
       "      <th>1</th>\n",
       "      <td>4</td>\n",
       "      <td>100001</td>\n",
       "      <td>simpson strong-ti 12-gaug angl</td>\n",
       "      <td>simpson strong-ti 12-gaug angl</td>\n",
       "      <td>simpson strong-ti 12-gaug angl</td>\n",
       "      <td>[unknown]</td>\n",
       "      <td>versatil connector various 90 connect home rep...</td>\n",
       "      <td>galvan steel</td>\n",
       "      <td>unknown</td>\n",
       "      <td>angl make joint stronger also provid consist s...</td>\n",
       "      <td>...</td>\n",
       "      <td>4</td>\n",
       "      <td>2</td>\n",
       "      <td>0</td>\n",
       "      <td>0</td>\n",
       "      <td>1.0</td>\n",
       "      <td>1.0</td>\n",
       "      <td>1.0</td>\n",
       "      <td>0.5</td>\n",
       "      <td>0.0</td>\n",
       "      <td>0.0</td>\n",
       "    </tr>\n",
       "  </tbody>\n",
       "</table>\n",
       "<p>2 rows × 35 columns</p>\n",
       "</div>"
      ],
      "text/plain": [
       "   id  product_uid                   product_title  \\\n",
       "0   1       100001  simpson strong-ti 12-gaug angl   \n",
       "1   4       100001  simpson strong-ti 12-gaug angl   \n",
       "\n",
       "                      search_term                           brand      color  \\\n",
       "0  simpson strong-ti 12-gaug angl  simpson strong-ti 12-gaug angl  [unknown]   \n",
       "1  simpson strong-ti 12-gaug angl  simpson strong-ti 12-gaug angl  [unknown]   \n",
       "\n",
       "                                              bullet      material function  \\\n",
       "0  versatil connector various 90 connect home rep...  galvan steel  unknown   \n",
       "1  versatil connector various 90 connect home rep...  galvan steel  unknown   \n",
       "\n",
       "                                 product_description     ...       num_st_br  \\\n",
       "0  angl make joint stronger also provid consist s...     ...               4   \n",
       "1  angl make joint stronger also provid consist s...     ...               4   \n",
       "\n",
       "   num_st_bl  num_st_mt  num_st_fn  ratio_st_pt  ratio_st_pd  ratio_st_br  \\\n",
       "0          2          0          0          1.0          1.0          1.0   \n",
       "1          2          0          0          1.0          1.0          1.0   \n",
       "\n",
       "   ratio_st_bl  ratio_st_mt  ratio_st_fn  \n",
       "0          0.5          0.0          0.0  \n",
       "1          0.5          0.0          0.0  \n",
       "\n",
       "[2 rows x 35 columns]"
      ]
     },
     "execution_count": 95,
     "metadata": {},
     "output_type": "execute_result"
    }
   ],
   "source": [
    "# merged_train.head(2)\n",
    "merged_test.head(2)\n"
   ]
  },
  {
   "cell_type": "markdown",
   "metadata": {},
   "source": [
    "#### 5.7. Create Count Vectorizer (BOW)\n",
    "\n",
    "For the next features I generated I considered the information available as BOW (bag of word). Count vectorizer is used to create a vector with all the terms that appeared in the data. This approach will help me in considering the data as BOW. Once I get a vector to represent each term I used similarity metric to find how much the query terms are similar to the features available. To perform this similarity check I used cosine similarity metric."
   ]
  },
  {
   "cell_type": "code",
   "execution_count": 99,
   "metadata": {
    "collapsed": true
   },
   "outputs": [],
   "source": [
    "from sklearn.feature_extraction.text import CountVectorizer\n",
    "\n",
    "cv = CountVectorizer(stop_words='english', max_features=1000)\n",
    "frames = [merged_train, merged_test]\n",
    "df = pd.concat(frames)\n",
    "cv.fit(df['search_term'] + ' ' + df['product_title'] + ' ' + df['product_description'] + ' ' + df['bullet'] + ' ' + df['brand']+ ' ' + df['material']+ ' ' + df['function'])\n",
    "\n",
    "del df\n",
    "\n",
    "cv_train_st = cv.transform(merged_train['search_term'])\n",
    "cv_train_pt = cv.transform(merged_train['product_title'])\n",
    "cv_train_pd = cv.transform(merged_train['product_description'])\n",
    "cv_train_br = cv.transform(merged_train['brand'])\n",
    "cv_train_bl = cv.transform(merged_train['bullet'])\n",
    "cv_train_mt = cv.transform(merged_train['material'])\n",
    "cv_train_fn = cv.transform(merged_train['function'])\n",
    "\n",
    "\n",
    "cv_test_st = cv.transform(merged_test['search_term'])\n",
    "cv_test_pt = cv.transform(merged_test['product_title'])\n",
    "cv_test_pd = cv.transform(merged_test['product_description'])\n",
    "cv_test_br = cv.transform(merged_test['brand'])\n",
    "cv_test_bl = cv.transform(merged_test['bullet'])\n",
    "cv_test_mt = cv.transform(merged_test['material'])\n",
    "cv_test_fn = cv.transform(merged_test['function'])\n"
   ]
  },
  {
   "cell_type": "markdown",
   "metadata": {},
   "source": [
    "#### 5.8. Find cosine similarity for above count vectors w.r.t Search Term\n",
    "Once I generate a count vector to represent each term in my corpus, I now create features based on the cosine similarity of search term with other features. To create cosine similarity based features I used sklearn inbuilt metric."
   ]
  },
  {
   "cell_type": "code",
   "execution_count": 100,
   "metadata": {
    "collapsed": true
   },
   "outputs": [],
   "source": [
    "from sklearn.metrics.pairwise import cosine_similarity\n",
    "\n",
    "cos_sim_train_st_pt = [cosine_similarity(cv_train_st[i], cv_train_pt[i])[0][0] for i in range(cv_train_st.shape[0])]\n",
    "cos_sim_train_st_pd = [cosine_similarity(cv_train_st[i], cv_train_pd[i])[0][0] for i in range(cv_train_st.shape[0])]\n",
    "cos_sim_train_st_br = [cosine_similarity(cv_train_st[i], cv_train_br[i])[0][0] for i in range(cv_train_st.shape[0])]\n",
    "cos_sim_train_st_bl = [cosine_similarity(cv_train_st[i], cv_train_bl[i])[0][0] for i in range(cv_train_st.shape[0])]\n",
    "cos_sim_train_st_mt = [cosine_similarity(cv_train_st[i], cv_train_mt[i])[0][0] for i in range(cv_train_st.shape[0])]\n",
    "cos_sim_train_st_fn = [cosine_similarity(cv_train_st[i], cv_train_fn[i])[0][0] for i in range(cv_train_st.shape[0])]\n",
    "\n",
    "cos_sim_test_st_pt = [cosine_similarity(cv_test_st[i], cv_test_pt[i])[0][0] for i in range(cv_test_st.shape[0])]\n",
    "cos_sim_test_st_pd = [cosine_similarity(cv_test_st[i], cv_test_pd[i])[0][0] for i in range(cv_test_st.shape[0])]\n",
    "cos_sim_test_st_br = [cosine_similarity(cv_test_st[i], cv_test_br[i])[0][0] for i in range(cv_test_st.shape[0])]\n",
    "cos_sim_test_st_bl = [cosine_similarity(cv_test_st[i], cv_test_bl[i])[0][0] for i in range(cv_test_st.shape[0])]\n",
    "cos_sim_test_st_mt = [cosine_similarity(cv_test_st[i], cv_test_mt[i])[0][0] for i in range(cv_test_st.shape[0])]\n",
    "cos_sim_test_st_fn = [cosine_similarity(cv_test_st[i], cv_test_fn[i])[0][0] for i in range(cv_test_st.shape[0])]\n",
    "\n",
    "\n",
    "merged_train['cos_sim_st_pt'] = cos_sim_train_st_pt\n",
    "merged_train['cos_sim_st_pd'] = cos_sim_train_st_pd\n",
    "merged_train['cos_sim_st_br'] = cos_sim_train_st_br\n",
    "merged_train['cos_sim_st_bl'] = cos_sim_train_st_bl\n",
    "merged_train['cos_sim_st_mt'] = cos_sim_train_st_mt\n",
    "merged_train['cos_sim_st_fn'] = cos_sim_train_st_fn\n",
    "\n",
    "merged_test['cos_sim_st_pt'] = cos_sim_test_st_pt\n",
    "merged_test['cos_sim_st_pd'] = cos_sim_test_st_pd\n",
    "merged_test['cos_sim_st_br'] = cos_sim_test_st_br\n",
    "merged_test['cos_sim_st_bl'] = cos_sim_test_st_bl\n",
    "merged_test['cos_sim_st_mt'] = cos_sim_test_st_mt\n",
    "merged_test['cos_sim_st_fn'] = cos_sim_test_st_fn"
   ]
  },
  {
   "cell_type": "code",
   "execution_count": 101,
   "metadata": {
    "collapsed": true
   },
   "outputs": [],
   "source": [
    "merged_train.to_pickle('cos_sim_train')\n",
    "merged_test.to_pickle('cos_sim_test')"
   ]
  },
  {
   "cell_type": "code",
   "execution_count": 102,
   "metadata": {
    "collapsed": true
   },
   "outputs": [],
   "source": [
    "merged_train = pd.read_pickle('cos_sim_train')\n",
    "merged_test = pd.read_pickle('cos_sim_test')"
   ]
  },
  {
   "cell_type": "markdown",
   "metadata": {},
   "source": [
    "#### 5.9. Use Tf-Idf\n",
    "Tf-idf is an important feature and different from other features mentioned above as many of them do not take into consideration the feature length. While calculating tf-idf we consider the feature length and penalise a feature if its length is big. This is important as there are high chances of match if the feature size is bigger but this does not always imply that feature is more relevant. So considering these features will improve the efficiency."
   ]
  },
  {
   "cell_type": "code",
   "execution_count": 104,
   "metadata": {
    "collapsed": true
   },
   "outputs": [],
   "source": [
    "from sklearn.feature_extraction.text import TfidfVectorizer\n",
    "\n",
    "frames = [merged_test, merged_test]\n",
    "df = pd.concat(frames)\n",
    "\n",
    "tfv = TfidfVectorizer(ngram_range=(1, 3), stop_words='english', max_features=1000)\n",
    "tfv.fit(df['search_term'] + ' ' + df['product_title'] + ' ' + df['product_description'] + ' ' + df['bullet'] + ' ' + df['brand']+ ' ' + df['material']+ ' ' + df['function'])\n",
    "del df\n",
    "\n",
    "tfv_train_st = tfv.transform(merged_train['search_term'])\n",
    "tfv_train_pt = tfv.transform(merged_train['product_title'])\n",
    "tfv_train_pd = tfv.transform(merged_train['product_description'])\n",
    "tfv_train_bl = tfv.transform(merged_train['bullet'])\n",
    "tfv_train_br = tfv.transform(merged_train['brand'])\n",
    "tfv_train_mt = tfv.transform(merged_train['material'])\n",
    "tfv_train_fn = tfv.transform(merged_train['function'])\n",
    "\n",
    "tfv_test_st = tfv.transform(merged_test['search_term'])\n",
    "tfv_test_pt = tfv.transform(merged_test['product_title'])\n",
    "tfv_test_pd = tfv.transform(merged_test['product_description'])\n",
    "tfv_test_bl = tfv.transform(merged_test['bullet'])\n",
    "tfv_test_br = tfv.transform(merged_test['brand'])\n",
    "tfv_test_mt = tfv.transform(merged_test['material'])\n",
    "tfv_test_fn = tfv.transform(merged_test['function'])"
   ]
  },
  {
   "cell_type": "code",
   "execution_count": 105,
   "metadata": {
    "collapsed": true
   },
   "outputs": [],
   "source": [
    "tfv_train_st_pt = [cosine_similarity(tfv_train_st[i], tfv_train_pt[i])[0][0] for i in range(tfv_train_st.shape[0])]\n",
    "tfv_train_st_pd = [cosine_similarity(tfv_train_st[i], tfv_train_pd[i])[0][0] for i in range(tfv_train_st.shape[0])]\n",
    "tfv_train_st_bl = [cosine_similarity(tfv_train_st[i], tfv_train_bl[i])[0][0] for i in range(tfv_train_st.shape[0])]\n",
    "tfv_train_st_br = [cosine_similarity(tfv_train_st[i], tfv_train_br[i])[0][0] for i in range(tfv_train_st.shape[0])]\n",
    "tfv_train_st_mt = [cosine_similarity(tfv_train_st[i], tfv_train_mt[i])[0][0] for i in range(tfv_train_st.shape[0])]\n",
    "tfv_train_st_fn = [cosine_similarity(tfv_train_st[i], tfv_train_fn[i])[0][0] for i in range(tfv_train_st.shape[0])]\n",
    "\n",
    "tfv_test_st_pt = [cosine_similarity(tfv_test_st[i], tfv_test_pt[i])[0][0] for i in range(tfv_test_st.shape[0])]\n",
    "tfv_test_st_pd = [cosine_similarity(tfv_test_st[i], tfv_test_pd[i])[0][0] for i in range(tfv_test_st.shape[0])]\n",
    "tfv_test_st_bl = [cosine_similarity(tfv_test_st[i], tfv_test_bl[i])[0][0] for i in range(tfv_test_st.shape[0])]\n",
    "tfv_test_st_br = [cosine_similarity(tfv_test_st[i], tfv_test_br[i])[0][0] for i in range(tfv_test_st.shape[0])]\n",
    "tfv_test_st_mt = [cosine_similarity(tfv_test_st[i], tfv_test_mt[i])[0][0] for i in range(tfv_test_st.shape[0])]\n",
    "tfv_test_st_fn = [cosine_similarity(tfv_test_st[i], tfv_test_fn[i])[0][0] for i in range(tfv_test_st.shape[0])]\n",
    "\n",
    "\n",
    "merged_train['tfv_st_pt'] = tfv_train_st_pt\n",
    "merged_train['tfv_st_pd'] = tfv_train_st_pd\n",
    "merged_train['tfv_st_bl'] = tfv_train_st_bl\n",
    "merged_train['tfv_st_br'] = tfv_train_st_br\n",
    "merged_train['tfv_st_mt'] = tfv_train_st_mt\n",
    "merged_train['tfv_st_fn'] = tfv_train_st_fn\n",
    "\n",
    "merged_test['tfv_st_pt'] = tfv_test_st_pt\n",
    "merged_test['tfv_st_pd'] = tfv_test_st_pd\n",
    "merged_test['tfv_st_bl'] = tfv_test_st_bl\n",
    "merged_test['tfv_st_br'] = tfv_test_st_br\n",
    "merged_test['tfv_st_mt'] = tfv_test_st_mt\n",
    "merged_test['tfv_st_fn'] = tfv_test_st_fn\n"
   ]
  },
  {
   "cell_type": "code",
   "execution_count": 106,
   "metadata": {},
   "outputs": [
    {
     "data": {
      "text/html": [
       "<div>\n",
       "<table border=\"1\" class=\"dataframe\">\n",
       "  <thead>\n",
       "    <tr style=\"text-align: right;\">\n",
       "      <th></th>\n",
       "      <th>id</th>\n",
       "      <th>product_uid</th>\n",
       "      <th>product_title</th>\n",
       "      <th>search_term</th>\n",
       "      <th>brand</th>\n",
       "      <th>color</th>\n",
       "      <th>bullet</th>\n",
       "      <th>material</th>\n",
       "      <th>function</th>\n",
       "      <th>product_description</th>\n",
       "      <th>...</th>\n",
       "      <th>cos_sim_st_br</th>\n",
       "      <th>cos_sim_st_bl</th>\n",
       "      <th>cos_sim_st_mt</th>\n",
       "      <th>cos_sim_st_fn</th>\n",
       "      <th>tfv_st_pt</th>\n",
       "      <th>tfv_st_pd</th>\n",
       "      <th>tfv_st_bl</th>\n",
       "      <th>tfv_st_br</th>\n",
       "      <th>tfv_st_mt</th>\n",
       "      <th>tfv_st_fn</th>\n",
       "    </tr>\n",
       "  </thead>\n",
       "  <tbody>\n",
       "    <tr>\n",
       "      <th>0</th>\n",
       "      <td>2</td>\n",
       "      <td>100001</td>\n",
       "      <td>simpson strong-ti 12-gaug angl</td>\n",
       "      <td>simpson strong-ti 12-gaug angl</td>\n",
       "      <td>simpson strong-ti 12-gaug angl</td>\n",
       "      <td>[unknown]</td>\n",
       "      <td>versatil connector various 90 connect home rep...</td>\n",
       "      <td>galvan steel</td>\n",
       "      <td>unknown</td>\n",
       "      <td>angl make joint stronger also provid consist s...</td>\n",
       "      <td>...</td>\n",
       "      <td>1.0</td>\n",
       "      <td>0.416667</td>\n",
       "      <td>0.0</td>\n",
       "      <td>0.0</td>\n",
       "      <td>1.0</td>\n",
       "      <td>0.397726</td>\n",
       "      <td>0.424676</td>\n",
       "      <td>1.0</td>\n",
       "      <td>0.0</td>\n",
       "      <td>0.0</td>\n",
       "    </tr>\n",
       "    <tr>\n",
       "      <th>2</th>\n",
       "      <td>9</td>\n",
       "      <td>100002</td>\n",
       "      <td>behr premium textur deckov 1-gal sc-141 tugboa...</td>\n",
       "      <td>behr premium textur deckov 1-gal sc-141 tugboa...</td>\n",
       "      <td>behr premium textur deckov 1-gal sc-141 tugboa...</td>\n",
       "      <td>[brown, tan, tugboat]</td>\n",
       "      <td>reviv wood composit deck rail porch boat dock ...</td>\n",
       "      <td>unknown</td>\n",
       "      <td>unknown</td>\n",
       "      <td>behr premium textur deckov innov solid color c...</td>\n",
       "      <td>...</td>\n",
       "      <td>1.0</td>\n",
       "      <td>0.320513</td>\n",
       "      <td>0.0</td>\n",
       "      <td>0.0</td>\n",
       "      <td>1.0</td>\n",
       "      <td>0.466927</td>\n",
       "      <td>0.295880</td>\n",
       "      <td>1.0</td>\n",
       "      <td>0.0</td>\n",
       "      <td>0.0</td>\n",
       "    </tr>\n",
       "  </tbody>\n",
       "</table>\n",
       "<p>2 rows × 48 columns</p>\n",
       "</div>"
      ],
      "text/plain": [
       "   id  product_uid                                      product_title  \\\n",
       "0   2       100001                     simpson strong-ti 12-gaug angl   \n",
       "2   9       100002  behr premium textur deckov 1-gal sc-141 tugboa...   \n",
       "\n",
       "                                         search_term  \\\n",
       "0                     simpson strong-ti 12-gaug angl   \n",
       "2  behr premium textur deckov 1-gal sc-141 tugboa...   \n",
       "\n",
       "                                               brand                  color  \\\n",
       "0                     simpson strong-ti 12-gaug angl              [unknown]   \n",
       "2  behr premium textur deckov 1-gal sc-141 tugboa...  [brown, tan, tugboat]   \n",
       "\n",
       "                                              bullet      material function  \\\n",
       "0  versatil connector various 90 connect home rep...  galvan steel  unknown   \n",
       "2  reviv wood composit deck rail porch boat dock ...       unknown  unknown   \n",
       "\n",
       "                                 product_description    ...      \\\n",
       "0  angl make joint stronger also provid consist s...    ...       \n",
       "2  behr premium textur deckov innov solid color c...    ...       \n",
       "\n",
       "   cos_sim_st_br  cos_sim_st_bl  cos_sim_st_mt  cos_sim_st_fn  tfv_st_pt  \\\n",
       "0            1.0       0.416667            0.0            0.0        1.0   \n",
       "2            1.0       0.320513            0.0            0.0        1.0   \n",
       "\n",
       "   tfv_st_pd  tfv_st_bl  tfv_st_br  tfv_st_mt  tfv_st_fn  \n",
       "0   0.397726   0.424676        1.0        0.0        0.0  \n",
       "2   0.466927   0.295880        1.0        0.0        0.0  \n",
       "\n",
       "[2 rows x 48 columns]"
      ]
     },
     "execution_count": 106,
     "metadata": {},
     "output_type": "execute_result"
    }
   ],
   "source": [
    "merged_train.head(2)\n",
    "# merged_test.head(2)"
   ]
  },
  {
   "cell_type": "code",
   "execution_count": 107,
   "metadata": {
    "collapsed": true
   },
   "outputs": [],
   "source": [
    "merged_train.to_pickle('tf_train')\n",
    "merged_test.to_pickle('tf_test')"
   ]
  },
  {
   "cell_type": "code",
   "execution_count": 8,
   "metadata": {
    "collapsed": true
   },
   "outputs": [],
   "source": [
    "merged_train = pd.read_pickle('tf_train')\n",
    "merged_test = pd.read_pickle('tf_test')"
   ]
  },
  {
   "cell_type": "markdown",
   "metadata": {
    "collapsed": true
   },
   "source": [
    "#### 5.10 Brand Encoding\n",
    "Brnad is very significant aspect when searching for a product. Many a times user direclty query a product using the brand/ manufacturer name. Thus considering brand is highly important. Since brand is a non -numeric feature so I performed encoding on this feature to get numeric feature."
   ]
  },
  {
   "cell_type": "code",
   "execution_count": 9,
   "metadata": {
    "collapsed": true
   },
   "outputs": [],
   "source": [
    "df = pd.concat([merged_train,merged_test])\n",
    "all_brand = pd.unique(df.brand.ravel())\n",
    "new_brand = {}\n",
    "encode = 0\n",
    "for brand in all_brand:\n",
    "    new_brand[brand] = encode\n",
    "    encode += 1\n",
    "new_brand['unknown'] = encode\n",
    "\n",
    "merged_train['brand_encoding'] = merged_train['brand'].map(lambda x: new_brand.get(x, -1))\n",
    "merged_test['brand_encoding'] = merged_test['brand'].map(lambda x: new_brand.get(x, -1))"
   ]
  },
  {
   "cell_type": "code",
   "execution_count": 10,
   "metadata": {},
   "outputs": [
    {
     "name": "stdout",
     "output_type": "stream",
     "text": [
      "<class 'pandas.core.frame.DataFrame'>\n",
      "Int64Index: 74008 entries, 0 to 74066\n",
      "Data columns (total 49 columns):\n",
      "id                             74008 non-null int64\n",
      "product_uid                    74008 non-null int64\n",
      "product_title                  74008 non-null object\n",
      "search_term                    74008 non-null object\n",
      "brand                          74008 non-null object\n",
      "color                          74008 non-null object\n",
      "bullet                         74008 non-null object\n",
      "material                       74008 non-null object\n",
      "function                       74008 non-null object\n",
      "product_description            74008 non-null object\n",
      "relevance                      74008 non-null float64\n",
      "len_search_term                74008 non-null int64\n",
      "len_product_title              74008 non-null int64\n",
      "len_product_description        74008 non-null int64\n",
      "len_bullet                     74008 non-null int64\n",
      "match_color                    74008 non-null float64\n",
      "edit_dist_product_title_min    74008 non-null int64\n",
      "edit_dist_product_title_avg    74008 non-null float64\n",
      "flag_st_pt                     74008 non-null int64\n",
      "flag_st_pd                     74008 non-null int64\n",
      "flag_st_br                     74008 non-null int64\n",
      "flag_st_bl                     74008 non-null int64\n",
      "flag_st_mt                     74008 non-null int64\n",
      "flag_st_fn                     74008 non-null int64\n",
      "num_st_pt                      74008 non-null int64\n",
      "num_st_pd                      74008 non-null int64\n",
      "num_st_br                      74008 non-null int64\n",
      "num_st_bl                      74008 non-null int64\n",
      "num_st_mt                      74008 non-null int64\n",
      "num_st_fn                      74008 non-null int64\n",
      "ratio_st_pt                    74008 non-null float64\n",
      "ratio_st_pd                    74008 non-null float64\n",
      "ratio_st_br                    74008 non-null float64\n",
      "ratio_st_bl                    74008 non-null float64\n",
      "ratio_st_mt                    74008 non-null float64\n",
      "ratio_st_fn                    74008 non-null float64\n",
      "cos_sim_st_pt                  74008 non-null float64\n",
      "cos_sim_st_pd                  74008 non-null float64\n",
      "cos_sim_st_br                  74008 non-null float64\n",
      "cos_sim_st_bl                  74008 non-null float64\n",
      "cos_sim_st_mt                  74008 non-null float64\n",
      "cos_sim_st_fn                  74008 non-null float64\n",
      "tfv_st_pt                      74008 non-null float64\n",
      "tfv_st_pd                      74008 non-null float64\n",
      "tfv_st_bl                      74008 non-null float64\n",
      "tfv_st_br                      74008 non-null float64\n",
      "tfv_st_mt                      74008 non-null float64\n",
      "tfv_st_fn                      74008 non-null float64\n",
      "brand_encoding                 74008 non-null int64\n",
      "dtypes: float64(21), int64(20), object(8)\n",
      "memory usage: 28.2+ MB\n"
     ]
    }
   ],
   "source": [
    "merged_train.info()"
   ]
  },
  {
   "cell_type": "code",
   "execution_count": 21,
   "metadata": {},
   "outputs": [
    {
     "data": {
      "text/plain": [
       "<matplotlib.axes._subplots.AxesSubplot at 0x1157af6d0>"
      ]
     },
     "execution_count": 21,
     "metadata": {},
     "output_type": "execute_result"
    },
    {
     "data": {
      "image/png": "[encoded data removed]",
      "text/plain": [
       "<matplotlib.figure.Figure at 0x115503b10>"
      ]
     },
     "metadata": {},
     "output_type": "display_data"
    }
   ],
   "source": [
    "sns.boxplot(x='relevance', y='tfv_st_fn', data=merged_train)"
   ]
  },
  {
   "cell_type": "code",
   "execution_count": 22,
   "metadata": {},
   "outputs": [
    {
     "data": {
      "text/plain": [
       "<matplotlib.axes._subplots.AxesSubplot at 0x11d37d590>"
      ]
     },
     "execution_count": 22,
     "metadata": {},
     "output_type": "execute_result"
    },
    {
     "data": {
      "image/png": "[encoded data removed]",
      "text/plain": [
       "<matplotlib.figure.Figure at 0x11569c6d0>"
      ]
     },
     "metadata": {},
     "output_type": "display_data"
    }
   ],
   "source": [
    "sns.boxplot(x='relevance', y='ratio_st_pt', data=merged_train)"
   ]
  },
  {
   "cell_type": "code",
   "execution_count": 29,
   "metadata": {},
   "outputs": [
    {
     "data": {
      "image/png": "[encoded data removed]",
      "text/plain": [
       "<matplotlib.figure.Figure at 0x119c74810>"
      ]
     },
     "metadata": {},
     "output_type": "display_data"
    }
   ],
   "source": [
    "import numpy as np\n",
    "from scipy import stats\n",
    "import pandas as pd\n",
    "import seaborn as sns\n",
    "import matplotlib.pyplot as plt\n",
    "sns.set(style=\"white\")\n",
    "\n",
    "df = pd.DataFrame(merged_train, columns=[\"relevance\", \"len_product_title\"])\n",
    "\n",
    "def corrfunc(x, y, **kws):\n",
    "    r, _ = stats.pearsonr(x, y)\n",
    "    ax = plt.gca()\n",
    "    ax.annotate(\"r = {:.2f}\".format(r),\n",
    "                xy=(.1, .9), xycoords=ax.transAxes)\n",
    "\n",
    "g = sns.PairGrid(df, palette=[\"red\"])\n",
    "g.map_upper(plt.scatter, s=10)\n",
    "g.map_diag(sns.distplot, kde=False)\n",
    "g.map_lower(sns.kdeplot, cmap=\"Blues_d\")\n",
    "g.map_lower(corrfunc)\n",
    "plt.show()"
   ]
  },
  {
   "cell_type": "markdown",
   "metadata": {},
   "source": [
    "## 6. Create DF with final features"
   ]
  },
  {
   "cell_type": "code",
   "execution_count": 126,
   "metadata": {},
   "outputs": [
    {
     "name": "stdout",
     "output_type": "stream",
     "text": [
      "<class 'pandas.core.frame.DataFrame'>\n",
      "Int64Index: 74008 entries, 0 to 74066\n",
      "Data columns (total 41 columns):\n",
      "id                             74008 non-null int64\n",
      "product_uid                    74008 non-null int64\n",
      "len_search_term                74008 non-null int64\n",
      "len_product_title              74008 non-null int64\n",
      "len_product_description        74008 non-null int64\n",
      "len_bullet                     74008 non-null int64\n",
      "match_color                    74008 non-null float64\n",
      "brand_encoding                 74008 non-null int64\n",
      "edit_dist_product_title_min    74008 non-null int64\n",
      "edit_dist_product_title_avg    74008 non-null float64\n",
      "cos_sim_st_pt                  74008 non-null float64\n",
      "cos_sim_st_pd                  74008 non-null float64\n",
      "cos_sim_st_br                  74008 non-null float64\n",
      "cos_sim_st_bl                  74008 non-null float64\n",
      "cos_sim_st_mt                  74008 non-null float64\n",
      "cos_sim_st_fn                  74008 non-null float64\n",
      "tfv_st_pt                      74008 non-null float64\n",
      "tfv_st_pd                      74008 non-null float64\n",
      "tfv_st_br                      74008 non-null float64\n",
      "tfv_st_bl                      74008 non-null float64\n",
      "tfv_st_mt                      74008 non-null float64\n",
      "tfv_st_fn                      74008 non-null float64\n",
      "flag_st_pt                     74008 non-null int64\n",
      "flag_st_pd                     74008 non-null int64\n",
      "flag_st_br                     74008 non-null int64\n",
      "flag_st_bl                     74008 non-null int64\n",
      "flag_st_mt                     74008 non-null int64\n",
      "flag_st_fn                     74008 non-null int64\n",
      "num_st_pt                      74008 non-null int64\n",
      "num_st_pd                      74008 non-null int64\n",
      "num_st_br                      74008 non-null int64\n",
      "num_st_bl                      74008 non-null int64\n",
      "num_st_mt                      74008 non-null int64\n",
      "num_st_fn                      74008 non-null int64\n",
      "ratio_st_pt                    74008 non-null float64\n",
      "ratio_st_pd                    74008 non-null float64\n",
      "ratio_st_br                    74008 non-null float64\n",
      "ratio_st_bl                    74008 non-null float64\n",
      "ratio_st_mt                    74008 non-null float64\n",
      "ratio_st_fn                    74008 non-null float64\n",
      "relevance                      74008 non-null float64\n",
      "dtypes: float64(21), int64(20)\n",
      "memory usage: 23.7 MB\n",
      "None\n",
      "<class 'pandas.core.frame.DataFrame'>\n",
      "Int64Index: 166693 entries, 0 to 166692\n",
      "Data columns (total 40 columns):\n",
      "id                             166693 non-null int64\n",
      "product_uid                    166693 non-null int64\n",
      "len_search_term                166693 non-null int64\n",
      "len_product_title              166693 non-null int64\n",
      "len_product_description        166693 non-null int64\n",
      "len_bullet                     166693 non-null int64\n",
      "match_color                    166693 non-null float64\n",
      "brand_encoding                 166693 non-null int64\n",
      "edit_dist_product_title_min    166693 non-null int64\n",
      "edit_dist_product_title_avg    166693 non-null float64\n",
      "cos_sim_st_pt                  166693 non-null float64\n",
      "cos_sim_st_pd                  166693 non-null float64\n",
      "cos_sim_st_br                  166693 non-null float64\n",
      "cos_sim_st_bl                  166693 non-null float64\n",
      "cos_sim_st_mt                  166693 non-null float64\n",
      "cos_sim_st_fn                  166693 non-null float64\n",
      "tfv_st_pt                      166693 non-null float64\n",
      "tfv_st_pd                      166693 non-null float64\n",
      "tfv_st_br                      166693 non-null float64\n",
      "tfv_st_bl                      166693 non-null float64\n",
      "tfv_st_mt                      166693 non-null float64\n",
      "tfv_st_fn                      166693 non-null float64\n",
      "flag_st_pt                     166693 non-null int64\n",
      "flag_st_pd                     166693 non-null int64\n",
      "flag_st_br                     166693 non-null int64\n",
      "flag_st_bl                     166693 non-null int64\n",
      "flag_st_mt                     166693 non-null int64\n",
      "flag_st_fn                     166693 non-null int64\n",
      "num_st_pt                      166693 non-null int64\n",
      "num_st_pd                      166693 non-null int64\n",
      "num_st_br                      166693 non-null int64\n",
      "num_st_bl                      166693 non-null int64\n",
      "num_st_mt                      166693 non-null int64\n",
      "num_st_fn                      166693 non-null int64\n",
      "ratio_st_pt                    166693 non-null float64\n",
      "ratio_st_pd                    166693 non-null float64\n",
      "ratio_st_br                    166693 non-null float64\n",
      "ratio_st_bl                    166693 non-null float64\n",
      "ratio_st_mt                    166693 non-null float64\n",
      "ratio_st_fn                    166693 non-null float64\n",
      "dtypes: float64(20), int64(20)\n",
      "memory usage: 52.1 MB\n",
      "None\n"
     ]
    }
   ],
   "source": [
    "# print merged_train.info()\n",
    "# print merged_test.head()\n",
    "# merged_train['relevance'] = train_pdf['relevance']\n",
    "feat_list = ['id', 'product_uid', \\\n",
    "             'len_search_term', 'len_product_title', 'len_product_description', 'len_bullet',\\\n",
    "             'match_color', 'brand_encoding',\\\n",
    "             'edit_dist_product_title_min', 'edit_dist_product_title_avg', \\\n",
    "             'cos_sim_st_pt', 'cos_sim_st_pd', 'cos_sim_st_br', 'cos_sim_st_bl', 'cos_sim_st_mt', 'cos_sim_st_fn',\\\n",
    "             'tfv_st_pt', 'tfv_st_pd', 'tfv_st_br', 'tfv_st_bl', 'tfv_st_mt', 'tfv_st_fn',\n",
    "             'flag_st_pt', 'flag_st_pd', 'flag_st_br', 'flag_st_bl', 'flag_st_mt', 'flag_st_fn', \\\n",
    "             'num_st_pt', 'num_st_pd', 'num_st_br', 'num_st_bl', 'num_st_mt', 'num_st_fn', \\\n",
    "             'ratio_st_pt', 'ratio_st_pd', 'ratio_st_br', 'ratio_st_bl', 'ratio_st_mt', 'ratio_st_fn', \\\n",
    "             'relevance']\n",
    "train = merged_train[feat_list]\n",
    "feat_list.remove('relevance')\n",
    "test = merged_test[feat_list]\n",
    "# print train_pdf.info()\n",
    "print train.info()\n",
    "print test.info()"
   ]
  },
  {
   "cell_type": "markdown",
   "metadata": {},
   "source": [
    "## 7. Use Pyspark"
   ]
  },
  {
   "cell_type": "code",
   "execution_count": 127,
   "metadata": {},
   "outputs": [
    {
     "name": "stdout",
     "output_type": "stream",
     "text": [
      "root\n",
      " |-- product_uid: double (nullable = true)\n",
      " |-- len_search_term: double (nullable = true)\n",
      " |-- len_product_title: double (nullable = true)\n",
      " |-- len_product_description: double (nullable = true)\n",
      " |-- len_bullet: double (nullable = true)\n",
      " |-- match_color: double (nullable = true)\n",
      " |-- brand_encoding: double (nullable = true)\n",
      " |-- edit_dist_product_title_min: double (nullable = true)\n",
      " |-- edit_dist_product_title_avg: double (nullable = true)\n",
      " |-- cos_sim_st_pt: double (nullable = true)\n",
      " |-- cos_sim_st_pd: double (nullable = true)\n",
      " |-- cos_sim_st_br: double (nullable = true)\n",
      " |-- cos_sim_st_bl: double (nullable = true)\n",
      " |-- cos_sim_st_mt: double (nullable = true)\n",
      " |-- cos_sim_st_fn: double (nullable = true)\n",
      " |-- tfv_st_pt: double (nullable = true)\n",
      " |-- tfv_st_pd: double (nullable = true)\n",
      " |-- tfv_st_br: double (nullable = true)\n",
      " |-- tfv_st_bl: double (nullable = true)\n",
      " |-- tfv_st_mt: double (nullable = true)\n",
      " |-- tfv_st_fn: double (nullable = true)\n",
      " |-- flag_st_pt: double (nullable = true)\n",
      " |-- flag_st_pd: double (nullable = true)\n",
      " |-- flag_st_br: double (nullable = true)\n",
      " |-- flag_st_bl: double (nullable = true)\n",
      " |-- flag_st_mt: double (nullable = true)\n",
      " |-- flag_st_fn: double (nullable = true)\n",
      " |-- num_st_pt: double (nullable = true)\n",
      " |-- num_st_pd: double (nullable = true)\n",
      " |-- num_st_br: double (nullable = true)\n",
      " |-- num_st_bl: double (nullable = true)\n",
      " |-- num_st_mt: double (nullable = true)\n",
      " |-- num_st_fn: double (nullable = true)\n",
      " |-- ratio_st_pt: double (nullable = true)\n",
      " |-- ratio_st_pd: double (nullable = true)\n",
      " |-- ratio_st_br: double (nullable = true)\n",
      " |-- ratio_st_bl: double (nullable = true)\n",
      " |-- ratio_st_mt: double (nullable = true)\n",
      " |-- ratio_st_fn: double (nullable = true)\n",
      " |-- relevance: double (nullable = true)\n",
      " |-- id: string (nullable = true)\n",
      "\n"
     ]
    }
   ],
   "source": [
    "from pyspark.sql.functions import col\n",
    "# from pyspark.sql import SparkSession\n",
    "\n",
    "# spark1 = SparkSession.builder.master(\"local\") \\\n",
    "#         .appName(\"Home Depot Challenge\") \\\n",
    "#         .config(\"spark.some.config.option\", \"some-value\") \\\n",
    "#         .getOrCreate()\n",
    "\n",
    "\n",
    "train.to_csv('final_train.csv', index = False)\n",
    "spark_train = spark.read.csv('./final_train.csv', header = True)\n",
    "# spark_train.printSchema()\n",
    "\n",
    "test.to_csv('final_test.csv', index = False)\n",
    "spark_test = spark.read.csv('./final_test.csv', header = True)\n",
    "# spark_test.printSchema()\n",
    "\n",
    "col_names = [(i, 'double') for i in spark_train.schema.names if not i == 'id']\n",
    "col_names.append(('id', 'string'))\n",
    "exprs = [col(i).cast(v) for i,v in col_names]\n",
    "spark_train = spark_train.select(*exprs)\n",
    "\n",
    "col_names = [(i, 'double') for i in spark_test.schema.names if not i == 'id']\n",
    "col_names.append(('id', 'string'))\n",
    "exprs = [col(i).cast(v) for i,v in col_names]\n",
    "spark_test = spark_test.select(*exprs)\n",
    "spark_train.printSchema()\n",
    "# spark_test.printSchema()\n",
    "\n"
   ]
  },
  {
   "cell_type": "markdown",
   "metadata": {},
   "source": [
    "#### 7.1 Use Pyspark Assembler"
   ]
  },
  {
   "cell_type": "code",
   "execution_count": 182,
   "metadata": {
    "collapsed": true
   },
   "outputs": [],
   "source": [
    "from pyspark.ml.feature import VectorAssembler\n",
    "\n",
    "#assemble all features togwether\n",
    "assembler = VectorAssembler(\n",
    "            inputCols = [x for x in spark_train.columns if x != 'relevance' and x != 'id'],\n",
    "            outputCol = 'features')\n",
    "\n",
    "assembler_df = assembler.transform(spark_train)"
   ]
  },
  {
   "cell_type": "markdown",
   "metadata": {},
   "source": [
    "#### 7.2 PCA\n",
    "\n",
    "Many features were created during feature engineering. Some of them might be similar and provide redundant information. Some might not have high correlation with the labels. To reduce the dimentionality of features I will use PCA."
   ]
  },
  {
   "cell_type": "code",
   "execution_count": 190,
   "metadata": {
    "collapsed": true
   },
   "outputs": [],
   "source": [
    "# from pyspark.ml.feature import PCA\n",
    "pca = PCA(k=10, inputCol=\"features\", outputCol=\"pca_features\")\n",
    "model = pca.fit(assembler_df)"
   ]
  },
  {
   "cell_type": "markdown",
   "metadata": {},
   "source": [
    "## 8.1 Using Random Forest Regressor Model"
   ]
  },
  {
   "cell_type": "code",
   "execution_count": 191,
   "metadata": {
    "collapsed": true
   },
   "outputs": [],
   "source": [
    "from pyspark.ml import Pipeline\n",
    "from pyspark.ml.regression import RandomForestRegressor\n",
    "from pyspark.ml.tuning import CrossValidator, ParamGridBuilder\n",
    "\n",
    "rf = RandomForestRegressor(featuresCol=\"features\", labelCol = 'relevance')\n"
   ]
  },
  {
   "cell_type": "markdown",
   "metadata": {},
   "source": [
    "#### 8.1.1 Create Pipeline"
   ]
  },
  {
   "cell_type": "code",
   "execution_count": 192,
   "metadata": {
    "collapsed": true
   },
   "outputs": [],
   "source": [
    "# create a pipeline\n",
    "\n",
    "pipeline_rf = Pipeline(stages = [\n",
    "    assembler, \n",
    "    rf,\n",
    "])\n"
   ]
  },
  {
   "cell_type": "markdown",
   "metadata": {},
   "source": [
    "#### 8.1.2 Use ParamGrid for parameter tuning "
   ]
  },
  {
   "cell_type": "code",
   "execution_count": 193,
   "metadata": {
    "collapsed": true
   },
   "outputs": [],
   "source": [
    "from pyspark.ml.tuning import CrossValidator, ParamGridBuilder\n",
    "\n",
    "paramGrid_rf = ParamGridBuilder() \\\n",
    "    .addGrid(rf.numTrees, [15, 25, 50]) \\\n",
    "    .addGrid(rf.featureSubsetStrategy,['auto', 'sqrt'] )\\\n",
    "    .build()"
   ]
  },
  {
   "cell_type": "markdown",
   "metadata": {},
   "source": [
    "#### 8.1.3 Perform Cross validation"
   ]
  },
  {
   "cell_type": "code",
   "execution_count": 194,
   "metadata": {
    "collapsed": true
   },
   "outputs": [],
   "source": [
    "from pyspark.ml.evaluation import RegressionEvaluator\n",
    "\n",
    "crossval_rf = CrossValidator(estimator=pipeline_rf,\n",
    "                          estimatorParamMaps=paramGrid_rf,\n",
    "                          evaluator=RegressionEvaluator(labelCol='relevance', predictionCol=\"prediction\"),\n",
    "                          numFolds=5)"
   ]
  },
  {
   "cell_type": "markdown",
   "metadata": {},
   "source": [
    "#### 8.1.4 Create train model"
   ]
  },
  {
   "cell_type": "code",
   "execution_count": 195,
   "metadata": {
    "collapsed": true
   },
   "outputs": [],
   "source": [
    "model_rf = crossval_rf.fit(spark_train)\n",
    "# spark_train.printSchema()"
   ]
  },
  {
   "cell_type": "markdown",
   "metadata": {},
   "source": [
    "#### 8.1.5 Transform Test and predict labels"
   ]
  },
  {
   "cell_type": "code",
   "execution_count": 166,
   "metadata": {},
   "outputs": [
    {
     "name": "stdout",
     "output_type": "stream",
     "text": [
      "+------------------+--------------------+\n",
      "|        prediction|            features|\n",
      "+------------------+--------------------+\n",
      "|2.3689124699544406|(39,[0,1,2,3,4,9,...|\n",
      "|2.3689124699544406|(39,[0,1,2,3,4,9,...|\n",
      "|2.3689124699544406|(39,[0,1,2,3,4,9,...|\n",
      "|2.3689124699544406|(39,[0,1,2,3,4,9,...|\n",
      "|2.3689124699544406|(39,[0,1,2,3,4,9,...|\n",
      "|2.3689124699544406|(39,[0,1,2,3,4,9,...|\n",
      "|2.3264243425199083|(39,[0,1,2,3,4,5,...|\n",
      "|2.3264243425199083|(39,[0,1,2,3,4,5,...|\n",
      "|2.3264243425199083|(39,[0,1,2,3,4,5,...|\n",
      "|2.3779782413115313|(39,[0,1,2,3,4,6,...|\n",
      "+------------------+--------------------+\n",
      "only showing top 10 rows\n",
      "\n"
     ]
    }
   ],
   "source": [
    "# predictions\n",
    "predictions_rf = model_rf.transform(spark_test)\n",
    "predictions_rf.select('prediction', 'features').show(10)\n"
   ]
  },
  {
   "cell_type": "markdown",
   "metadata": {},
   "source": [
    "#### 8.1.6 Store the Predictions"
   ]
  },
  {
   "cell_type": "code",
   "execution_count": 169,
   "metadata": {
    "collapsed": true
   },
   "outputs": [],
   "source": [
    "result_rf = predictions_rf.select('id', 'prediction').withColumnRenamed('prediction', 'relevance')\n",
    "df_rf = result_rf.toPandas()\n",
    "df_rf.to_csv('result_rf.csv', index = False)\n"
   ]
  },
  {
   "cell_type": "markdown",
   "metadata": {},
   "source": [
    "## 8.2 Linear Regressor Model"
   ]
  },
  {
   "cell_type": "code",
   "execution_count": 171,
   "metadata": {
    "collapsed": true
   },
   "outputs": [],
   "source": [
    "from pyspark.ml.regression import LinearRegression\n",
    "\n",
    "# Build the model\n",
    "lr = LinearRegression(featuresCol=\"features\", labelCol=\"relevance\", predictionCol=\"prediction\", max_iter=5)\n",
    "\n",
    "\n",
    "model_lr = pipeline_lr.fit(spark_train)\n",
    "# spark_train.show()\n",
    "\n"
   ]
  },
  {
   "cell_type": "code",
   "execution_count": 160,
   "metadata": {
    "collapsed": true
   },
   "outputs": [],
   "source": []
  },
  {
   "cell_type": "markdown",
   "metadata": {},
   "source": [
    "#### 8.2.1 Create Pipeline"
   ]
  },
  {
   "cell_type": "code",
   "execution_count": 172,
   "metadata": {
    "collapsed": true
   },
   "outputs": [],
   "source": [
    "# create a pipeline\n",
    "\n",
    "pipeline_lr = Pipeline(stages = [\n",
    "    assembler, \n",
    "    lr,\n",
    "])"
   ]
  },
  {
   "cell_type": "markdown",
   "metadata": {},
   "source": [
    "#### 8.2.2 Use ParamGrid for parameter tuning "
   ]
  },
  {
   "cell_type": "code",
   "execution_count": 173,
   "metadata": {
    "collapsed": true
   },
   "outputs": [],
   "source": [
    "from pyspark.ml.tuning import CrossValidator, ParamGridBuilder\n",
    "\n",
    "paramGrid_lr = ParamGridBuilder() \\\n",
    "    .addGrid(lr.regParam, [0.0, 0.5, 1.0]) \\\n",
    "    .addGrid(lr.standardization,[True, False] )\\\n",
    "    .build()"
   ]
  },
  {
   "cell_type": "markdown",
   "metadata": {},
   "source": [
    "#### 8.2.3 Perform Cross validation"
   ]
  },
  {
   "cell_type": "code",
   "execution_count": 174,
   "metadata": {
    "collapsed": true
   },
   "outputs": [],
   "source": [
    "from pyspark.ml.evaluation import RegressionEvaluator\n",
    "\n",
    "crossval_lr = CrossValidator(estimator=pipeline_lr,\n",
    "                          estimatorParamMaps=paramGrid_lr,\n",
    "                          evaluator=RegressionEvaluator(labelCol='relevance', predictionCol=\"prediction\"),\n",
    "                          numFolds=5)"
   ]
  },
  {
   "cell_type": "markdown",
   "metadata": {},
   "source": [
    "#### 8.2.4 Create train model"
   ]
  },
  {
   "cell_type": "code",
   "execution_count": 175,
   "metadata": {
    "collapsed": true
   },
   "outputs": [],
   "source": [
    "model_lr = crossval_lr.fit(spark_train)\n",
    "# spark_train.printSchema()"
   ]
  },
  {
   "cell_type": "markdown",
   "metadata": {},
   "source": [
    "#### 8.2.5 Transform Test and predict labels"
   ]
  },
  {
   "cell_type": "code",
   "execution_count": 176,
   "metadata": {},
   "outputs": [
    {
     "name": "stdout",
     "output_type": "stream",
     "text": [
      "+------------------+--------------------+\n",
      "|        prediction|            features|\n",
      "+------------------+--------------------+\n",
      "| 2.371202060247362|(39,[0,1,2,3,4,9,...|\n",
      "| 2.371202060247362|(39,[0,1,2,3,4,9,...|\n",
      "| 2.371202060247362|(39,[0,1,2,3,4,9,...|\n",
      "| 2.371202060247362|(39,[0,1,2,3,4,9,...|\n",
      "| 2.371202060247362|(39,[0,1,2,3,4,9,...|\n",
      "| 2.371202060247362|(39,[0,1,2,3,4,9,...|\n",
      "|2.5347924835383546|(39,[0,1,2,3,4,5,...|\n",
      "|2.5347924835383546|(39,[0,1,2,3,4,5,...|\n",
      "|2.5347924835383546|(39,[0,1,2,3,4,5,...|\n",
      "| 2.700453920636984|(39,[0,1,2,3,4,6,...|\n",
      "+------------------+--------------------+\n",
      "only showing top 10 rows\n",
      "\n"
     ]
    }
   ],
   "source": [
    "# predictions\n",
    "predictions_lr = model_lr.transform(spark_test)\n",
    "predictions_lr.select('prediction', 'features').show(10)\n"
   ]
  },
  {
   "cell_type": "markdown",
   "metadata": {},
   "source": [
    "#### 8.2.6 Store the Predictions"
   ]
  },
  {
   "cell_type": "code",
   "execution_count": 180,
   "metadata": {},
   "outputs": [
    {
     "name": "stdout",
     "output_type": "stream",
     "text": [
      "ii\n"
     ]
    }
   ],
   "source": [
    "result_lr = predictions_lr.select('id', 'prediction').withColumnRenamed('prediction', 'relevance')\n",
    "df_lr = result_lr.toPandas()\n",
    "for i,x in enumerate(df_lr['relevance']):\n",
    "    if x < 1:\n",
    "        df_lr['relevance'][i] = 1\n",
    "        print 'i'\n",
    "    elif df_lr['relevance'][i] > 3:\n",
    "        print 'ii'\n",
    "        df_lr['relevance'][i] = 3\n",
    "df_lr.to_csv('result_lr.csv', index = False)"
   ]
  },
  {
   "cell_type": "code",
   "execution_count": null,
   "metadata": {
    "collapsed": true
   },
   "outputs": [],
   "source": []
  },
  {
   "cell_type": "markdown",
   "metadata": {},
   "source": [
    "## 9. Discussion on Models:\n",
    "\n",
    "As per the task we were supposed to provide the relevance score given a search term. If we consider the acceptable values of relevance score then this task looks like classification problem as only three values can be assigned for relevance. But this is not true. If we read the relevance judgement file, we can see that more than one person is considered for judging the relevance of results of train data. To give the final relevance score mean is taken of all the scores provided by judges. If we analyse this then we can say that this is a regression problem as taking mean of relevance score can result into multiple values. Some of these will not be available in the train data set. This is one of the major reason why this is not a classification problem as in classification problem the classification set for test is a subset of train classification set.\n",
    "\n",
    "Two models that I used to perform prediction include Random Forest Regressor and Linear Regression Model. AS per my kaggle score the Random Forest Regressor performed better on this data set.\n",
    "\n",
    "For performing feature Selection I used basically two approaches:\n",
    "<br>Used seaborn plots to understand the correlation between feature and relevance score.\n",
    "<br>Also used PCA to find relevant feature and reduced redundant features.\n",
    "\n",
    "\n",
    "\n",
    "##### KAGGLE SCORE:\n",
    "##### RFR : 0.52274\n",
    "##### LR: 0.52516\n",
    "\n",
    "![title](result.png)"
   ]
  },
  {
   "cell_type": "markdown",
   "metadata": {},
   "source": [
    "## 10. Conclusion\n",
    "\n",
    "\n",
    "##### What I learnt:\n",
    "In coming up with a solution for this project, I learnt how a search analysis is performed. How to study and analyse user behavior. I learnt how to use pyspark from training our model. How we can completely put everything in pipeline and how we can test the hyperparameters and come up with the best result.\n",
    "\n",
    "##### What you could have done more:\n",
    "For this task, I also wanted to try some other similarity metrics like Jaccard similarity, use some features based on type of product and finally I could have used ensemble learning to try to use multi-level modelling to improve my model and to make it more stable. I also wanted to more analyse and explain the plots that I used to come up with features. Query expansion is one more thing that could be applied.\n",
    "\n",
    "##### Challenges Faced:\n",
    "I faced some challenges in feature engineering. Some features required lot of time for generation. Some other issues I faced was on applying ensemble method because of which I was not able to finally finish it. \n",
    "\n",
    "##### Innovative Techniques Used:\n",
    "Found a new library seaborn which is highly useful in analysis of data while performing data exploration. It can be useful in plotting the data for better picturization of the same.\n",
    "\n",
    "##### Results:\n",
    "Getting a high accuracy in enterprise search environment is pretty difficult, especially if user data is not available. If we have user data then we can use personalization to improve the results. \n"
   ]
  },
  {
   "cell_type": "markdown",
   "metadata": {},
   "source": [
    "## 11. Citation\n",
    "#### For data exploration and feature engineering I used below links for reference. Some part of my approach was also provided in these links. \n",
    "https://www.kaggle.com/briantc/home-depot-product-search-relevance/homedepot-first-dataexploreation-k \n",
    "\n",
    "https://www.kaggle.com/tennissuperstar/home-depot-product-search-relevance/data-exploration-1\n",
    "\n",
    "https://github.com/dnc1994/Kaggle-Playground/blob/master/home-depot/Preprocess.ipynb"
   ]
  },
  {
   "cell_type": "code",
   "execution_count": null,
   "metadata": {
    "collapsed": true
   },
   "outputs": [],
   "source": []
  }
 ],
 "metadata": {
  "kernelspec": {
   "display_name": "Python 2",
   "language": "python",
   "name": "python2"
  },
  "language_info": {
   "codemirror_mode": {
    "name": "ipython",
    "version": 2
   },
   "file_extension": ".py",
   "mimetype": "text/x-python",
   "name": "python",
   "nbconvert_exporter": "python",
   "pygments_lexer": "ipython2",
   "version": "2.7.13"
  }
 },
 "nbformat": 4,
 "nbformat_minor": 2
}
